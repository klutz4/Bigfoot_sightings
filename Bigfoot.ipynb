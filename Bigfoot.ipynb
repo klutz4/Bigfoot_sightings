{
 "cells": [
  {
   "cell_type": "code",
   "execution_count": 1,
   "metadata": {},
   "outputs": [],
   "source": [
    "import json\n",
    "from bs4 import BeautifulSoup"
   ]
  },
  {
   "cell_type": "code",
   "execution_count": 2,
   "metadata": {},
   "outputs": [],
   "source": [
    "reports = []\n",
    "with open('bigfoot_data.json') as f:\n",
    "    for i in f:\n",
    "        reports.append(json.loads(i))"
   ]
  },
  {
   "cell_type": "code",
   "execution_count": 3,
   "metadata": {},
   "outputs": [
    {
     "name": "stdout",
     "output_type": "stream",
     "text": [
      "dict_keys(['_id', 'url', 'html', 'time']) \n",
      "\n",
      "_id: {'$oid': '5939abbd2acdf6607095366c'} \n",
      "\n",
      "url: show_report.asp?id=13038 \n",
      "\n",
      "html: \r\n",
      "<!doctype html public \"-//w3c//dtd html 4.0 transitional//en\">\r\n",
      "<HTML>\r\n",
      "\t<HEAD>\r\n",
      "        <meta http-equiv=\"X-UA-Compatible\" content=\"IE=EmulateIE7\" />\r\n",
      "        <meta http-equiv=\"Content-Type\" content=\"text/html; charset=iso-8859-1\">\r\n",
      "    <meta name=\"KEYWORDS\" content=\"bigfoot, big foot, BigFoot, BFRO, Bigfoot research, sightings database, organizations, Organization, sightings, lists, locations, areas, reports, report, ape, apes, forest, giant, giants, monster, monsters, swamp, creek, Florida, Skunk Ape Florida Skuk Ape, Abominable Snowman, Agogwe, Almasti, Batutut-Borneo, Didi, Dwendi, Kakundakari, Kung-Lu, Mapinguary, Muhalu, sasquatch, sasquach, Sedapa, Orang Pendek, Shiru, Sisimite, Skunk Ape, Tok- Burma, Yeti, Yowie, cryptozoology, animals, strange, glowing eyes, foot prints, cast, tracks, fottprint cast, hairy, beast, mystery, paranormal, ufo, x-files, xfiles, bionic woman, sightings, sighting, IVBC, Byrne, report, howl, scream, primate, everglades, Florida Everglades, swamp, Gigantopithecus, missing link, missing, link, anthropology, skunk, monkey, foot, big, encounters, eyewitness reports, North America, Submit a report, reports, Submit an Article, Submit Comments, theories, research projects, track, cast, investigation, hair, microscopy analysis, field research journals, the Gigantopithecus Theory, Sasquatching Equipment, Sasquatching Tips for Collecting Evidence, photograph, tracks, physical evidence, Sounds, Photos\">\r\n",
      "\t\t<TITLE>BFRO Report 13038: Snowmobiler has encounter in deep snow near Potter, AK</TITLE> \r\n",
      "\r\n",
      "\t\t<script src=\"/fade.js\" language=\"Javascript\"></script>\r\n",
      "\t\t<script type=\"text/javascript\">\r\n",
      "\t\tfunction runLogo() {\r\n",
      "\t\t\tvar logo = document.getElementById(\"logo\");\r\n",
      "\t\t\tif(logo != null)\r\n",
      "\t\t\t{\r\n",
      "\t\t\t\tlogo.src=logo.src + 'a;'\r\n",
      "\t\t\t}\r\n",
      "\t\t}\r\n",
      "\t\t\r\n",
      "\t\t</script>\r\n",
      "\r\n",
      "\r\n",
      "\t\t<!-- /Flash Browser Detection Script -->\r\n",
      "    <LINK rel=\"STYLESHEET\" href=\"/bfro_v2.css\" type=\"text/css\">\r\n",
      "    <LINK REL=\"SHORTCUT ICON\" HREF=\"http://www.bfro.net/favicon.ico\">\r\n",
      "\t</HEAD>\r\n",
      "\t<BODY onLoad=\"runLogo()\"  bgcolor=\"#000000\" topmargin=\"0\" leftmargin=\"0\">\r\n",
      "\r\n",
      "\t\t\t<SCRIPT>\r\n",
      "\t\t\t<!--\r\n",
      "\t\t\t\tif (document.images) \r\n",
      "\t\t\t\t{\r\n",
      "\t\t\t\t\tb_Media_Articles = new Image();\r\n",
      "\t\t\t\t\tb_Media_Articles.src = \"/images/templates/b-Media%20Articles_hl.jpg\";\r\n",
      "\t\t\t\t\tb_Media_Articles_orig = new Image();\r\n",
      "\t\t\t\t\tb_Media_Articles_orig.src = \"/images/templates/b-Media%20Articles.jpg\";\r\n",
      "\t\t\t\t\tb_ReportForm = new Image();\r\n",
      "\t\t\t\t\tb_ReportForm.src = \"/images/templates/b-Report%20Form_hl.jpg\";\r\n",
      "\t\t\t\t\tb_ReportForm_orig = new Image();\r\n",
      "\t\t\t\t\tb_ReportForm_orig.src = \"/images/templates/b-Report%20Form.jpg\";\r\n",
      "\t\t\t\t\tb_Home = new Image();\r\n",
      "\t\t\t\t\tb_Home.src = \"/images/templates/b-Home_hl.jpg\";\r\n",
      "\t\t\t\t\tb_Home_orig = new Image();\r\n",
      "\t\t\t\t\tb_Home_orig.src = \"/images/templates/b-Home.jpg\";\r\n",
      "\t\t\t\t}\r\n",
      "\r\n",
      "\t\t\t\tfunction turnOn(imageName) \r\n",
      "\t\t\t\t{\r\n",
      "\t\t\t\t\tif (document.images) \r\n",
      "\t\t\t\t\t{\r\n",
      "\t\t\t\t\t\tdocument[imageName].src = eval(imageName + \".src\");  \r\n",
      "\t\t\t\t\t}\r\n",
      "\t\t\t\t}\r\n",
      "\r\n",
      "\t\t\t\tfunction turnOff(imageName) \r\n",
      "\t\t\t\t{  \r\n",
      "\t\t\t\t\tif (document.images) \r\n",
      "\t\t\t\t\t{\r\n",
      "\t\t\t\t\t\t\tdocument[imageName].src = eval(imageName + \"_orig.src\");  \r\n",
      "\t\t\t\t\t}\r\n",
      "\t\t\t\t}\r\n",
      "\t\t\t\t-->\r\n",
      "\t\t\t</SCRIPT>\r\n",
      "\t\t\t<SCRIPT language=\"JavaScript1.2\" src=\"/images/templates/bfro_data.asp\"></SCRIPT>\r\n",
      "\t\t\t<SCRIPT language=\"JavaScript1.2\" src=\"/images/templates/dqm_script.js\"></SCRIPT>\r\n",
      "\t\t\t<table border=\"0\" align=\"left\" cellpadding=\"0\" cellspacing=\"0\" width=\"780\">\r\n",
      "\t\t\t\t<tr>\r\n",
      "\t\t\t\t\t<td width=\"130\" valign=\"top\" align=\"middle\">\r\n",
      "\t\t\t\t\t\t\r\n",
      "    <table border=\"0\" align=\"left\" cellpadding=\"0\" cellspacing=\"0\" width=\"130\">\r\n",
      "      <tr> \r\n",
      "        <td height=\"130\" width=\"130\" align=\"middle\">  \r\n",
      "          <a href=\"/\"><img id=\"logo\" alt=\"Bigfoot Field Researchers Organization Logo\" src=\"/images/templates/LogoSpin.gif?\" onMouseOver=\"runLogo();\" height=\"130\" width=\"130\" border=\"0\"></a>\r\n",
      "          <NOSCRIPT>  <a href=\"/\"><img alt=\"Bigfoot Field Researchers Organization Logo\" src=\"/images/templates/LogoSpin.gif?\" onMouseOver=\"runLogo();\" height=\"130\" width=\"130\" border=\"0\"></a> \r\n",
      "           </NOSCRIPT>  </td>\r\n",
      "      </tr>\r\n",
      "      <tr> \r\n",
      "        <td align=\"left\" valign=\"top\"> \r\n",
      "          <table border=\"0\" cellpadding=\"0\" cellspacing=\"0\">\r\n",
      "            <tr> \r\n",
      "              <td colspan=\"2\"><IMG SRC=\"/images/templates/Outline_01.gif\" WIDTH=\"130\" HEIGHT=\"15\"></td>\r\n",
      "            </tr>\r\n",
      "            <tr> \r\n",
      "              <td><IMG SRC=\"/images/templates/Outline_02.gif\" WIDTH=\"15\" HEIGHT=\"20\"></td>\r\n",
      "              <td><A HREF=\"/\" onMouseOver=\"turnOn('b_Home');\" onMouseOut=\"turnOff('b_Home');\"><IMG NAME=\"b_Home\" SRC=\"/images/templates/b-Home.jpg\" WIDTH=\"130\" HEIGHT=\"20\" BORDER=\"0\"></A></td>\r\n",
      "            </tr>\r\n",
      "            <tr> \r\n",
      "              <td><IMG SRC=\"/images/templates/Outline_02.gif\" WIDTH=\"15\" HEIGHT=\"20\"></td>\r\n",
      "              <td><A HREF=\"/\"><img border=\"0\" src=\"/images/templates/b-Features.jpg\" width=\"130\" height=\"20\" name=\"menu0\" id=\"menu0\" onMouseOver=\"showMenu(event)\" onMouseOut=\"hideMenu(event)\"></A></td>\r\n",
      "            </tr>\r\n",
      "            <tr> \r\n",
      "              <td><IMG SRC=\"/images/templates/Outline_02.gif\" WIDTH=\"15\" HEIGHT=\"20\"></td>\r\n",
      "              <td><A HREF=\"/GDB/\"><img border=\"0\" src=\"/images/templates/b-Reports.jpg\" width=\"130\" height=\"20\" name=\"menu1\" id=\"menu1\" onMouseOver=\"showMenu(event)\" onMouseOut=\"hideMenu(event)\"></A></td>\r\n",
      "            </tr>\r\n",
      "            <tr> \r\n",
      "              <td><IMG SRC=\"/images/templates/Outline_02.gif\" WIDTH=\"15\" HEIGHT=\"20\"></td>\r\n",
      "              <td><A HREF=\"/GDB/newart.asp\" onMouseOver=\"turnOn('b_Media_Articles');\" onMouseOut=\"turnOff('b_Media_Articles');\"><IMG NAME=\"b_Media_Articles\" SRC=\"/images/templates/b-Media%20Articles.jpg\" WIDTH=\"130\" HEIGHT=\"20\" BORDER=\"0\"></A></td>\r\n",
      "            </tr>\r\n",
      "            <tr> \r\n",
      "              <td><IMG SRC=\"/images/templates/Outline_02.gif\" WIDTH=\"15\" HEIGHT=\"20\"></td>\r\n",
      "              <td><A HREF=\"/GDB/submitfm.asp\" onMouseOver=\"turnOn('b_ReportForm');\" onMouseOut=\"turnOff('b_ReportForm');\"><IMG NAME=\"b_ReportForm\" SRC=\"/images/templates/b-Report%20Form.jpg\" WIDTH=\"130\" HEIGHT=\"20\" BORDER=\"0\"></A></td>\r\n",
      "            </tr>\r\n",
      "            <tr> \r\n",
      "              <td><IMG SRC=\"/images/templates/Outline_02.gif\" WIDTH=\"15\" HEIGHT=\"20\"></td>\r\n",
      "              <td><a href=\"/gdb/show_fAQ.asp?id=405\"><img border=\"0\" src=\"/images/templates/b-FAQs.jpg\" width=\"130\" height=\"20\" name=\"menu2\" id=\"menu2\" onMouseOver=\"showMenu(event)\" onMouseOut=\"hideMenu(event)\"></a></td>\r\n",
      "            </tr>\r\n",
      "            <tr> \r\n",
      "              <td><IMG SRC=\"/images/templates/Outline_02.gif\" WIDTH=\"15\" HEIGHT=\"20\"></td>\r\n",
      "              <td><a href=\"/GDB/theories.asp\"><img border=\"0\" src=\"/images/templates/b-Departments.jpg\" width=\"130\" height=\"20\" name=\"menu3\" id=\"menu3\" onMouseOver=\"showMenu(event)\" onMouseOut=\"hideMenu(event)\"></a></td>\r\n",
      "            </tr>\r\n",
      "            <tr> \r\n",
      "              <td colspan=\"2\"><IMG SRC=\"/images/templates/Outline_05.gif\" WIDTH=\"130\" HEIGHT=\"15\"></td>\r\n",
      "            </tr>\r\n",
      "          </table>\r\n",
      "        </td>\r\n",
      "      </tr>\r\n",
      "      <tr align=\"left\" bordercolor=\"3\"> \r\n",
      "        <td style=\"padding-right: 13px; padding-left: 13px; font-size: 10pt\"> \r\n",
      "          <div align=\"left\">&nbsp;<br>\r\n",
      "            <br>\r\n",
      "            \r\n",
      "             </div>\r\n",
      "        </td></tr>\r\n",
      "<tr>\r\n",
      "  <td><a href=\"http://www.bfro.net/news/townhall.asp\"><img src=\"http://www.bfro.net/gdb/images/townhall_sidebar.gif\" alt=\"townhall\" width=\"135\" height=\"141\" border=\"3\"></a><br><br><br>\r\n",
      "    <a href=\"http://www.bfro.net/news/roundup/expeds_2017.asp\">\r\n",
      "<img src=\"http://www.bfro.net/gdb/images/exped_2017_map_sidebar.gif\" alt=\"expeds\" width=\"135\" height=\"127\" border=\"3\"></a><br>\r\n",
      "<!--<br>\r\n",
      "<br><br>\r\n",
      "<a href=\"http://www.bfro.net/merchandise/catalog.asp\"><img src=\"http://www.bfro.net/gdb/images/bfro_store_margin_banner.gif\" alt=\"store\" width=\"135\" height=\"81\" border=\"3\"></a>-->\r\n",
      "<br>\r\n",
      "<br>\r\n",
      "<a href=\"http://www.bfro.net/merchandise/catalog.asp\"><img src=\"http://www.bfro.net/gdb/images/margin_icon_store.gif\" alt=\"store\" width=\"135\" height=\"148\" border=\"3\"></a><br>\r\n",
      "<br><br><br>\r\n",
      "\r\n",
      "    <div id=\"google_translate_element\"></div><script>\r\n",
      "function googleTranslateElementInit() {\r\n",
      "  new google.translate.TranslateElement({\r\n",
      "    pageLanguage: 'en'\r\n",
      "  }, 'google_translate_element');\r\n",
      "}\r\n",
      "</script><script src=\"//translate.google.com/translate_a/element.js?cb=googleTranslateElementInit\"></script>\r\n",
      "<br><br>\r\n",
      "\r\n",
      "<!-- AddThis Button BEGIN -->\r\n",
      "<div class=\"addthis_toolbox addthis_default_style \">\r\n",
      "<a class=\"addthis_button_preferred_1\"></a>\r\n",
      "<a class=\"addthis_button_preferred_2\"></a>\r\n",
      "<a class=\"addthis_button_preferred_3\"></a>\r\n",
      "<a class=\"addthis_button_preferred_4\"></a>\r\n",
      "<a class=\"addthis_button_compact\"></a>\r\n",
      "<a class=\"addthis_counter addthis_bubble_style\"></a>\r\n",
      "</div>\r\n",
      "<script type=\"text/javascript\">var addthis_config = {\"data_track_clickback\":true};</script>\r\n",
      "<script type=\"text/javascript\" src=\"http://s7.addthis.com/js/250/addthis_widget.js#pubid=ra-4e017f48386f7ed9\"></script>\r\n",
      "<!-- AddThis Button END -->\r\n",
      "\r\n",
      "\r\n",
      "\r\n",
      "</td></tr>\r\n",
      "\r\n",
      "\r\n",
      "    </table>\r\n",
      "    \r\n",
      "    \r\n",
      "\t\t\t\t\t\t<!-- BEGIN CONTENT SECTION -->\r\n",
      "\r\n",
      "\r\n",
      "\t\t\t\t\t</td>\r\n",
      "\t\t\t\t\t<td>\r\n",
      "\t\t\t\t\t\t<img src=\"/images/templates/spacer.gif\" width=\"1\" height=\"400\" align=>\r\n",
      "\t\t\t\t\t</td>\r\n",
      "\t\t\t\t\t<td valign=\"top\" align=\"left\">\r\n",
      "\t<table border=0 cellpadding=14 cellspacing=5 width=\"100%\" bgcolor=\"#003333\" ID=\"Table1\">\r\n",
      "\t<tr><td>\r\n",
      "\r\n",
      "\t\t<span style=\"font-size: 10pt\"><a href=\"/gdb/\">Geographical Index</a> &gt; <a href=\"/gdb/#usa\">United States</a> &gt; <a href=\"/GDB/state_listing.asp?state=AK\">Alaska</a> &gt; <a href=\"/GDB/show_county_reports.asp?state=AK&county=Anchorage\">Anchorage County</a> &gt; Report # 13038<br>&nbsp;<br></span>\r\n",
      "    <span class=reportheader>Report # 13038</span>&nbsp;&nbsp;<span class=reportclassification>(Class A)</span>\r\n",
      "      <BR>\r\n",
      "      <span class=field>Submitted  by  witness   on Saturday,&nbsp;November&nbsp;12,&nbsp;2005.</span>\r\n",
      "    <hr size=\"5\" noshade color=\"#009900\">\r\n",
      "\r\n",
      "    <span class=field>Snowmobiler has encounter in deep snow near Potter, AK</span>\r\n",
      "    <hr size=\"5\" noshade color=\"#009900\">\r\n",
      "\r\n",
      "    <span style=\"font-size:10pt\"><a href=\"/GDB/show_report.asp?ID=13038&PrinterFriendly=True\">(Show Printer-friendly Version)</a></span>\r\n",
      "    \r\n",
      "    <p><span class=field>YEAR:</span> 2004</p>\r\n",
      "<p><span class=field>SEASON:</span> Winter</p><p><span class=field>MONTH:</span> February</p><p><span class=field>STATE:</span> <a href=\"/GDB/state_listing.asp?state=AK\">Alaska</a></p><p><span class=field>COUNTY:</span> <a href=\"/GDB/show_county_reports.asp?state=AK&county=Anchorage\">Anchorage County</a></p><p><span class=field>LOCATION DETAILS:</span> Up near powerline clearings east of Potter Marsh in Anchorage.</p><p><span class=field>NEAREST TOWN:</span> Anchorage / Hillside</p><p><span class=field>NEAREST ROAD:</span> No real roads in the area</p><p><span class=field>OBSERVED:</span> I and two of my friends were bored one night so we decided to do a little snowmachining. Though it was illegal to snowmachine in Anchorage, there were some good trails to ride on a little north of my house.  <BR><BR>We took off at probably 11 pm, rode up the road about a quarter mile, and cut off on the trails. It had snowed about 10 inches a few days before so there was fresh snow, with no tracks.  <BR><BR>I was leading the way for about a half hour, then we stopped and talked for a little bit.  We took off again and kept cruising on some sort of game trail that led to an opening in the woods.  I rode off into the opening with my friends following about fifty yards behind me.  <BR><BR>I came over this little mound and saw strange tracks leading to this spot in the snow where it looked like something had pushed aside some snow and layed down.  I figured it was just a moose or something.  But I followed the tracks over the next small hill and as I came down the far side my headlight pointed right on the back of a bigfoot. <BR><BR> It was only about 10 to 12 feet in front of me.  It was running in the opposite direction.  I slammed on the brakes because I was scared out of my mind.  It continued to run away, jumped over a dead log covered in snow and disappeared into a group of trees and into the darkness.  <BR><BR>I was so surprised and scared I quickly turned around and rode back toward my friends. I met them back by the first mound and said \"We need to get out of here,\"  and rode back towards my house.  When I told them about it back near my house, they laughed and told me it was probably a bear or someone in the woods.  But I was 100% positive that is was not a bear or anything else. <BR><BR>The way it was running through the deep snow made me sure that it wasn't anything human.  For a long time I was made fun of and everyone told me I was crazy so I didn't like talking about it.  </p><p><span class=field>ALSO NOTICED:</span> Some tracks in the snow, and a clearing in the fresh snow where it looked like a large animal had pushed snow aside and layed down.</p><p><span class=field>OTHER WITNESSES:</span> My two friends were snowmachining behind me but did not see it. If it had been light outside they might have seen it, but it was pitch black outside. My only light was from my snowmachine.</p><p><span class=field>OTHER STORIES:</span> I have not heard of any other incidents in Anchorage.</p><p><span class=field>TIME AND CONDITIONS:</span> Middle of the night. The only light was the headlight from my snowmachine.</p><p><span class=field>ENVIRONMENT:</span> In the middle of the woods, in a clearing covered in snow, with only small shrubs and bushes sticking out of the snow.  In the middle of the night.</p>\r\n",
      "    <hr size=\"5\" noshade color=\"#009900\">\r\n",
      "    <p>Follow-up investigation report by BFRO Investigator Dr. Wolf H. Fahrenbach:</p>\r\n",
      "    <blockquote>\r\n",
      "      <p>The animal was running from the approaching snowmobiles. <BR><BR>It was running smoothly with angled elbows, totally unimpeded by the fresh snow, which was about a foot deep and still falling on top of a deeper base. <BR><BR>It was dark brown in color, with a messy, matted coat and no perceptible neck.<BR><BR>The area of the encounter lies near a clear-cut lane for a pipeline and is within about a mile of the Anchorage Coastal Wildlife Refuge and Potter's Marsh in wooded terrain.<BR></p>\r\n",
      "    </blockquote>\r\n",
      "\r\n",
      "    <hr size=\"5\" noshade color=\"#009900\">\r\n",
      "    <p>About BFRO Investigator Dr. Wolf H. Fahrenbach:</p>\r\n",
      "    <blockquote>\r\n",
      "      <p>Hair analysis since 1965.  Field work since 1989. Sasquatch courses given in Oregon and Arizona (3-10 weeks duration); Published in Cryptozoology.</p>\r\n",
      "    </blockquote>\r\n",
      "\r\n",
      "    <hr size=\"5\" noshade color=\"#009900\">\r\n",
      "\r\n",
      "    <ul>\r\n",
      "\t\t\t<li><a href=\"/gdb/classify.asp\">Explanation of the report classification system</a></li>\r\n",
      "\t\t\t\r\n",
      "        <li><a href=\"/GDB/submitfm.asp\">Submit a report for the sightings database</a></li>\r\n",
      "\t\t\t<!--<li><a href=\"/GDB/comments.asp?CommentURL=http%3A%2F%2Fwww%2Ebfro%2Enet%2FGDB%2Fshow%5Freport%2Easp%3Fid%3D13038\">Submit a comment or article</a></li>-->\r\n",
      "\t\t\t<li>Please send any comments or inquiries to Contact@BFRO.net</li>\r\n",
      "\t\t</ul>\r\n",
      "\t\t</td></tr></table><BR>&nbsp;\r\n",
      "\r\n",
      "\t\t\t\t\t<!-- END CONTENT SECTION -->\r\n",
      "\t\t\t\t</td>\r\n",
      "\t\t\t</tr>\r\n",
      "\t\t\t<tr>\r\n",
      "\t\t\t\t<td colspan=\"2\" width=\"131\"><img src=\"/images/templates/spacer.gif\" width=\"131\" height=\"1\"></td>\r\n",
      "\t\t\t\t<td align=\"left\">&nbsp;&nbsp;<span class=\"smallprint\">Copyright &copy; 2017<!--2017--> BFRO.net</span>\r\n",
      "\t\t\t\t<br>&nbsp;\r\n",
      "\t\t\t\t<br><img src=\"/images/templates/spacer.gif\" wwidth=\"649\" height=\"1\"></td></tr>\r\n",
      "\t\t</table>\r\n",
      "\r\n",
      "<script type=\"text/javascript\">runLogo();</script>\r\n",
      "\t</BODY>\r\n",
      "</HTML>\r\n",
      "\r\n",
      " \n",
      "\n",
      "time: Thu Jun  8 19:55:40 2017 \n",
      "\n"
     ]
    }
   ],
   "source": [
    "print(reports[0].keys(), '\\n')\n",
    "\n",
    "for k, v in reports[0].items():\n",
    "    print(f'{k}: {v} \\n')\n",
    "      "
   ]
  },
  {
   "cell_type": "code",
   "execution_count": 4,
   "metadata": {},
   "outputs": [],
   "source": [
    "soup = BeautifulSoup(reports[0]['html'], 'html.parser')"
   ]
  },
  {
   "cell_type": "code",
   "execution_count": 12,
   "metadata": {},
   "outputs": [
    {
     "name": "stdout",
     "output_type": "stream",
     "text": [
      "<!DOCTYPE doctype html public \"-//w3c//dtd html 4.0 transitional//en\">\n",
      "<html>\n",
      " <head>\n",
      "  <meta content=\"IE=EmulateIE7\" http-equiv=\"X-UA-Compatible\"/>\n",
      "  <meta content=\"text/html; charset=utf-8\" http-equiv=\"Content-Type\"/>\n",
      "  <meta content=\"bigfoot, big foot, BigFoot, BFRO, Bigfoot research, sightings database, organizations, Organization, sightings, lists, locations, areas, reports, report, ape, apes, forest, giant, giants, monster, monsters, swamp, creek, Florida, Skunk Ape Florida Skuk Ape, Abominable Snowman, Agogwe, Almasti, Batutut-Borneo, Didi, Dwendi, Kakundakari, Kung-Lu, Mapinguary, Muhalu, sasquatch, sasquach, Sedapa, Orang Pendek, Shiru, Sisimite, Skunk Ape, Tok- Burma, Yeti, Yowie, cryptozoology, animals, strange, glowing eyes, foot prints, cast, tracks, fottprint cast, hairy, beast, mystery, paranormal, ufo, x-files, xfiles, bionic woman, sightings, sighting, IVBC, Byrne, report, howl, scream, primate, everglades, Florida Everglades, swamp, Gigantopithecus, missing link, missing, link, anthropology, skunk, monkey, foot, big, encounters, eyewitness reports, North America, Submit a report, reports, Submit an Article, Submit Comments, theories, research projects, track, cast, investigation, hair, microscopy analysis, field research journals, the Gigantopithecus Theory, Sasquatching Equipment, Sasquatching Tips for Collecting Evidence, photograph, tracks, physical evidence, Sounds, Photos\" name=\"KEYWORDS\"/>\n",
      "  <title>\n",
      "   BFRO Report 13038: Snowmobiler has encounter in deep snow near Potter, AK\n",
      "  </title>\n",
      "  <script language=\"Javascript\" src=\"/fade.js\">\n",
      "  </script>\n",
      "  <script type=\"text/javascript\">\n",
      "   function runLogo() {\r\n",
      "\t\t\tvar logo = document.getElementById(\"logo\");\r\n",
      "\t\t\tif(logo != null)\r\n",
      "\t\t\t{\r\n",
      "\t\t\t\tlogo.src=logo.src + 'a;'\r\n",
      "\t\t\t}\r\n",
      "\t\t}\n",
      "  </script>\n",
      "  <!-- /Flash Browser Detection Script -->\n",
      "  <link href=\"/bfro_v2.css\" rel=\"STYLESHEET\" type=\"text/css\"/>\n",
      "  <link href=\"http://www.bfro.net/favicon.ico\" rel=\"SHORTCUT ICON\"/>\n",
      " </head>\n",
      " <body bgcolor=\"#000000\" leftmargin=\"0\" onload=\"runLogo()\" topmargin=\"0\">\n",
      "  <script>\n",
      "   <!--\r\n",
      "\t\t\t\tif (document.images) \r\n",
      "\t\t\t\t{\r\n",
      "\t\t\t\t\tb_Media_Articles = new Image();\r\n",
      "\t\t\t\t\tb_Media_Articles.src = \"/images/templates/b-Media%20Articles_hl.jpg\";\r\n",
      "\t\t\t\t\tb_Media_Articles_orig = new Image();\r\n",
      "\t\t\t\t\tb_Media_Articles_orig.src = \"/images/templates/b-Media%20Articles.jpg\";\r\n",
      "\t\t\t\t\tb_ReportForm = new Image();\r\n",
      "\t\t\t\t\tb_ReportForm.src = \"/images/templates/b-Report%20Form_hl.jpg\";\r\n",
      "\t\t\t\t\tb_ReportForm_orig = new Image();\r\n",
      "\t\t\t\t\tb_ReportForm_orig.src = \"/images/templates/b-Report%20Form.jpg\";\r\n",
      "\t\t\t\t\tb_Home = new Image();\r\n",
      "\t\t\t\t\tb_Home.src = \"/images/templates/b-Home_hl.jpg\";\r\n",
      "\t\t\t\t\tb_Home_orig = new Image();\r\n",
      "\t\t\t\t\tb_Home_orig.src = \"/images/templates/b-Home.jpg\";\r\n",
      "\t\t\t\t}\r\n",
      "\r\n",
      "\t\t\t\tfunction turnOn(imageName) \r\n",
      "\t\t\t\t{\r\n",
      "\t\t\t\t\tif (document.images) \r\n",
      "\t\t\t\t\t{\r\n",
      "\t\t\t\t\t\tdocument[imageName].src = eval(imageName + \".src\");  \r\n",
      "\t\t\t\t\t}\r\n",
      "\t\t\t\t}\r\n",
      "\r\n",
      "\t\t\t\tfunction turnOff(imageName) \r\n",
      "\t\t\t\t{  \r\n",
      "\t\t\t\t\tif (document.images) \r\n",
      "\t\t\t\t\t{\r\n",
      "\t\t\t\t\t\t\tdocument[imageName].src = eval(imageName + \"_orig.src\");  \r\n",
      "\t\t\t\t\t}\r\n",
      "\t\t\t\t}\r\n",
      "\t\t\t\t-->\n",
      "  </script>\n",
      "  <script language=\"JavaScript1.2\" src=\"/images/templates/bfro_data.asp\">\n",
      "  </script>\n",
      "  <script language=\"JavaScript1.2\" src=\"/images/templates/dqm_script.js\">\n",
      "  </script>\n",
      "  <table align=\"left\" border=\"0\" cellpadding=\"0\" cellspacing=\"0\" width=\"780\">\n",
      "   <tr>\n",
      "    <td align=\"middle\" valign=\"top\" width=\"130\">\n",
      "     <table align=\"left\" border=\"0\" cellpadding=\"0\" cellspacing=\"0\" width=\"130\">\n",
      "      <tr>\n",
      "       <td align=\"middle\" height=\"130\" width=\"130\">\n",
      "        <a href=\"/\">\n",
      "         <img alt=\"Bigfoot Field Researchers Organization Logo\" border=\"0\" height=\"130\" id=\"logo\" onmouseover=\"runLogo();\" src=\"/images/templates/LogoSpin.gif?\" width=\"130\"/>\n",
      "        </a>\n",
      "        <noscript>\n",
      "         <a href=\"/\">\n",
      "          <img alt=\"Bigfoot Field Researchers Organization Logo\" border=\"0\" height=\"130\" onmouseover=\"runLogo();\" src=\"/images/templates/LogoSpin.gif?\" width=\"130\"/>\n",
      "         </a>\n",
      "        </noscript>\n",
      "       </td>\n",
      "      </tr>\n",
      "      <tr>\n",
      "       <td align=\"left\" valign=\"top\">\n",
      "        <table border=\"0\" cellpadding=\"0\" cellspacing=\"0\">\n",
      "         <tr>\n",
      "          <td colspan=\"2\">\n",
      "           <img height=\"15\" src=\"/images/templates/Outline_01.gif\" width=\"130\"/>\n",
      "          </td>\n",
      "         </tr>\n",
      "         <tr>\n",
      "          <td>\n",
      "           <img height=\"20\" src=\"/images/templates/Outline_02.gif\" width=\"15\"/>\n",
      "          </td>\n",
      "          <td>\n",
      "           <a href=\"/\" onmouseout=\"turnOff('b_Home');\" onmouseover=\"turnOn('b_Home');\">\n",
      "            <img border=\"0\" height=\"20\" name=\"b_Home\" src=\"/images/templates/b-Home.jpg\" width=\"130\"/>\n",
      "           </a>\n",
      "          </td>\n",
      "         </tr>\n",
      "         <tr>\n",
      "          <td>\n",
      "           <img height=\"20\" src=\"/images/templates/Outline_02.gif\" width=\"15\"/>\n",
      "          </td>\n",
      "          <td>\n",
      "           <a href=\"/\">\n",
      "            <img border=\"0\" height=\"20\" id=\"menu0\" name=\"menu0\" onmouseout=\"hideMenu(event)\" onmouseover=\"showMenu(event)\" src=\"/images/templates/b-Features.jpg\" width=\"130\"/>\n",
      "           </a>\n",
      "          </td>\n",
      "         </tr>\n",
      "         <tr>\n",
      "          <td>\n",
      "           <img height=\"20\" src=\"/images/templates/Outline_02.gif\" width=\"15\"/>\n",
      "          </td>\n",
      "          <td>\n",
      "           <a href=\"/GDB/\">\n",
      "            <img border=\"0\" height=\"20\" id=\"menu1\" name=\"menu1\" onmouseout=\"hideMenu(event)\" onmouseover=\"showMenu(event)\" src=\"/images/templates/b-Reports.jpg\" width=\"130\"/>\n",
      "           </a>\n",
      "          </td>\n",
      "         </tr>\n",
      "         <tr>\n",
      "          <td>\n",
      "           <img height=\"20\" src=\"/images/templates/Outline_02.gif\" width=\"15\"/>\n",
      "          </td>\n",
      "          <td>\n",
      "           <a href=\"/GDB/newart.asp\" onmouseout=\"turnOff('b_Media_Articles');\" onmouseover=\"turnOn('b_Media_Articles');\">\n",
      "            <img border=\"0\" height=\"20\" name=\"b_Media_Articles\" src=\"/images/templates/b-Media%20Articles.jpg\" width=\"130\"/>\n",
      "           </a>\n",
      "          </td>\n",
      "         </tr>\n",
      "         <tr>\n",
      "          <td>\n",
      "           <img height=\"20\" src=\"/images/templates/Outline_02.gif\" width=\"15\"/>\n",
      "          </td>\n",
      "          <td>\n",
      "           <a href=\"/GDB/submitfm.asp\" onmouseout=\"turnOff('b_ReportForm');\" onmouseover=\"turnOn('b_ReportForm');\">\n",
      "            <img border=\"0\" height=\"20\" name=\"b_ReportForm\" src=\"/images/templates/b-Report%20Form.jpg\" width=\"130\"/>\n",
      "           </a>\n",
      "          </td>\n",
      "         </tr>\n",
      "         <tr>\n",
      "          <td>\n",
      "           <img height=\"20\" src=\"/images/templates/Outline_02.gif\" width=\"15\"/>\n",
      "          </td>\n",
      "          <td>\n",
      "           <a href=\"/gdb/show_fAQ.asp?id=405\">\n",
      "            <img border=\"0\" height=\"20\" id=\"menu2\" name=\"menu2\" onmouseout=\"hideMenu(event)\" onmouseover=\"showMenu(event)\" src=\"/images/templates/b-FAQs.jpg\" width=\"130\"/>\n",
      "           </a>\n",
      "          </td>\n",
      "         </tr>\n",
      "         <tr>\n",
      "          <td>\n",
      "           <img height=\"20\" src=\"/images/templates/Outline_02.gif\" width=\"15\"/>\n",
      "          </td>\n",
      "          <td>\n",
      "           <a href=\"/GDB/theories.asp\">\n",
      "            <img border=\"0\" height=\"20\" id=\"menu3\" name=\"menu3\" onmouseout=\"hideMenu(event)\" onmouseover=\"showMenu(event)\" src=\"/images/templates/b-Departments.jpg\" width=\"130\"/>\n",
      "           </a>\n",
      "          </td>\n",
      "         </tr>\n",
      "         <tr>\n",
      "          <td colspan=\"2\">\n",
      "           <img height=\"15\" src=\"/images/templates/Outline_05.gif\" width=\"130\"/>\n",
      "          </td>\n",
      "         </tr>\n",
      "        </table>\n",
      "       </td>\n",
      "      </tr>\n",
      "      <tr align=\"left\" bordercolor=\"3\">\n",
      "       <td style=\"padding-right: 13px; padding-left: 13px; font-size: 10pt\">\n",
      "        <div align=\"left\">\n",
      "         <br/>\n",
      "         <br/>\n",
      "        </div>\n",
      "       </td>\n",
      "      </tr>\n",
      "      <tr>\n",
      "       <td>\n",
      "        <a href=\"http://www.bfro.net/news/townhall.asp\">\n",
      "         <img alt=\"townhall\" border=\"3\" height=\"141\" src=\"http://www.bfro.net/gdb/images/townhall_sidebar.gif\" width=\"135\"/>\n",
      "        </a>\n",
      "        <br/>\n",
      "        <br/>\n",
      "        <br/>\n",
      "        <a href=\"http://www.bfro.net/news/roundup/expeds_2017.asp\">\n",
      "         <img alt=\"expeds\" border=\"3\" height=\"127\" src=\"http://www.bfro.net/gdb/images/exped_2017_map_sidebar.gif\" width=\"135\"/>\n",
      "        </a>\n",
      "        <br/>\n",
      "        <!--<br>\r\n",
      "<br><br>\r\n",
      "<a href=\"http://www.bfro.net/merchandise/catalog.asp\"><img src=\"http://www.bfro.net/gdb/images/bfro_store_margin_banner.gif\" alt=\"store\" width=\"135\" height=\"81\" border=\"3\"></a>-->\n",
      "        <br/>\n",
      "        <br/>\n",
      "        <a href=\"http://www.bfro.net/merchandise/catalog.asp\">\n",
      "         <img alt=\"store\" border=\"3\" height=\"148\" src=\"http://www.bfro.net/gdb/images/margin_icon_store.gif\" width=\"135\"/>\n",
      "        </a>\n",
      "        <br/>\n",
      "        <br/>\n",
      "        <br/>\n",
      "        <br/>\n",
      "        <div id=\"google_translate_element\">\n",
      "        </div>\n",
      "        <script>\n",
      "         function googleTranslateElementInit() {\r\n",
      "  new google.translate.TranslateElement({\r\n",
      "    pageLanguage: 'en'\r\n",
      "  }, 'google_translate_element');\r\n",
      "}\n",
      "        </script>\n",
      "        <script src=\"//translate.google.com/translate_a/element.js?cb=googleTranslateElementInit\">\n",
      "        </script>\n",
      "        <br/>\n",
      "        <br/>\n",
      "        <!-- AddThis Button BEGIN -->\n",
      "        <div class=\"addthis_toolbox addthis_default_style \">\n",
      "         <a class=\"addthis_button_preferred_1\">\n",
      "         </a>\n",
      "         <a class=\"addthis_button_preferred_2\">\n",
      "         </a>\n",
      "         <a class=\"addthis_button_preferred_3\">\n",
      "         </a>\n",
      "         <a class=\"addthis_button_preferred_4\">\n",
      "         </a>\n",
      "         <a class=\"addthis_button_compact\">\n",
      "         </a>\n",
      "         <a class=\"addthis_counter addthis_bubble_style\">\n",
      "         </a>\n",
      "        </div>\n",
      "        <script type=\"text/javascript\">\n",
      "         var addthis_config = {\"data_track_clickback\":true};\n",
      "        </script>\n",
      "        <script src=\"http://s7.addthis.com/js/250/addthis_widget.js#pubid=ra-4e017f48386f7ed9\" type=\"text/javascript\">\n",
      "        </script>\n",
      "        <!-- AddThis Button END -->\n",
      "       </td>\n",
      "      </tr>\n",
      "     </table>\n",
      "     <!-- BEGIN CONTENT SECTION -->\n",
      "    </td>\n",
      "    <td>\n",
      "     <img align=\"\" height=\"400\" src=\"/images/templates/spacer.gif\" width=\"1\"/>\n",
      "    </td>\n",
      "    <td align=\"left\" valign=\"top\">\n",
      "     <table bgcolor=\"#003333\" border=\"0\" cellpadding=\"14\" cellspacing=\"5\" id=\"Table1\" width=\"100%\">\n",
      "      <tr>\n",
      "       <td>\n",
      "        <span style=\"font-size: 10pt\">\n",
      "         <a href=\"/gdb/\">\n",
      "          Geographical Index\n",
      "         </a>\n",
      "         &gt;\n",
      "         <a href=\"/gdb/#usa\">\n",
      "          United States\n",
      "         </a>\n",
      "         &gt;\n",
      "         <a href=\"/GDB/state_listing.asp?state=AK\">\n",
      "          Alaska\n",
      "         </a>\n",
      "         &gt;\n",
      "         <a href=\"/GDB/show_county_reports.asp?state=AK&amp;county=Anchorage\">\n",
      "          Anchorage County\n",
      "         </a>\n",
      "         &gt; Report # 13038\n",
      "         <br/>\n",
      "         <br/>\n",
      "        </span>\n",
      "        <span class=\"reportheader\">\n",
      "         Report # 13038\n",
      "        </span>\n",
      "        <span class=\"reportclassification\">\n",
      "         (Class A)\n",
      "        </span>\n",
      "        <br/>\n",
      "        <span class=\"field\">\n",
      "         Submitted  by  witness   on Saturday, November 12, 2005.\n",
      "        </span>\n",
      "        <hr color=\"#009900\" noshade=\"\" size=\"5\"/>\n",
      "        <span class=\"field\">\n",
      "         Snowmobiler has encounter in deep snow near Potter, AK\n",
      "        </span>\n",
      "        <hr color=\"#009900\" noshade=\"\" size=\"5\"/>\n",
      "        <span style=\"font-size:10pt\">\n",
      "         <a href=\"/GDB/show_report.asp?ID=13038&amp;PrinterFriendly=True\">\n",
      "          (Show Printer-friendly Version)\n",
      "         </a>\n",
      "        </span>\n",
      "        <p>\n",
      "         <span class=\"field\">\n",
      "          YEAR:\n",
      "         </span>\n",
      "         2004\n",
      "        </p>\n",
      "        <p>\n",
      "         <span class=\"field\">\n",
      "          SEASON:\n",
      "         </span>\n",
      "         Winter\n",
      "        </p>\n",
      "        <p>\n",
      "         <span class=\"field\">\n",
      "          MONTH:\n",
      "         </span>\n",
      "         February\n",
      "        </p>\n",
      "        <p>\n",
      "         <span class=\"field\">\n",
      "          STATE:\n",
      "         </span>\n",
      "         <a href=\"/GDB/state_listing.asp?state=AK\">\n",
      "          Alaska\n",
      "         </a>\n",
      "        </p>\n",
      "        <p>\n",
      "         <span class=\"field\">\n",
      "          COUNTY:\n",
      "         </span>\n",
      "         <a href=\"/GDB/show_county_reports.asp?state=AK&amp;county=Anchorage\">\n",
      "          Anchorage County\n",
      "         </a>\n",
      "        </p>\n",
      "        <p>\n",
      "         <span class=\"field\">\n",
      "          LOCATION DETAILS:\n",
      "         </span>\n",
      "         Up near powerline clearings east of Potter Marsh in Anchorage.\n",
      "        </p>\n",
      "        <p>\n",
      "         <span class=\"field\">\n",
      "          NEAREST TOWN:\n",
      "         </span>\n",
      "         Anchorage / Hillside\n",
      "        </p>\n",
      "        <p>\n",
      "         <span class=\"field\">\n",
      "          NEAREST ROAD:\n",
      "         </span>\n",
      "         No real roads in the area\n",
      "        </p>\n",
      "        <p>\n",
      "         <span class=\"field\">\n",
      "          OBSERVED:\n",
      "         </span>\n",
      "         I and two of my friends were bored one night so we decided to do a little snowmachining. Though it was illegal to snowmachine in Anchorage, there were some good trails to ride on a little north of my house.\n",
      "         <br/>\n",
      "         <br/>\n",
      "         We took off at probably 11 pm, rode up the road about a quarter mile, and cut off on the trails. It had snowed about 10 inches a few days before so there was fresh snow, with no tracks.\n",
      "         <br/>\n",
      "         <br/>\n",
      "         I was leading the way for about a half hour, then we stopped and talked for a little bit.  We took off again and kept cruising on some sort of game trail that led to an opening in the woods.  I rode off into the opening with my friends following about fifty yards behind me.\n",
      "         <br/>\n",
      "         <br/>\n",
      "         I came over this little mound and saw strange tracks leading to this spot in the snow where it looked like something had pushed aside some snow and layed down.  I figured it was just a moose or something.  But I followed the tracks over the next small hill and as I came down the far side my headlight pointed right on the back of a bigfoot.\n",
      "         <br/>\n",
      "         <br/>\n",
      "         It was only about 10 to 12 feet in front of me.  It was running in the opposite direction.  I slammed on the brakes because I was scared out of my mind.  It continued to run away, jumped over a dead log covered in snow and disappeared into a group of trees and into the darkness.\n",
      "         <br/>\n",
      "         <br/>\n",
      "         I was so surprised and scared I quickly turned around and rode back toward my friends. I met them back by the first mound and said \"We need to get out of here,\"  and rode back towards my house.  When I told them about it back near my house, they laughed and told me it was probably a bear or someone in the woods.  But I was 100% positive that is was not a bear or anything else.\n",
      "         <br/>\n",
      "         <br/>\n",
      "         The way it was running through the deep snow made me sure that it wasn't anything human.  For a long time I was made fun of and everyone told me I was crazy so I didn't like talking about it.\n",
      "        </p>\n",
      "        <p>\n",
      "         <span class=\"field\">\n",
      "          ALSO NOTICED:\n",
      "         </span>\n",
      "         Some tracks in the snow, and a clearing in the fresh snow where it looked like a large animal had pushed snow aside and layed down.\n",
      "        </p>\n",
      "        <p>\n",
      "         <span class=\"field\">\n",
      "          OTHER WITNESSES:\n",
      "         </span>\n",
      "         My two friends were snowmachining behind me but did not see it. If it had been light outside they might have seen it, but it was pitch black outside. My only light was from my snowmachine.\n",
      "        </p>\n",
      "        <p>\n",
      "         <span class=\"field\">\n",
      "          OTHER STORIES:\n",
      "         </span>\n",
      "         I have not heard of any other incidents in Anchorage.\n",
      "        </p>\n",
      "        <p>\n",
      "         <span class=\"field\">\n",
      "          TIME AND CONDITIONS:\n",
      "         </span>\n",
      "         Middle of the night. The only light was the headlight from my snowmachine.\n",
      "        </p>\n",
      "        <p>\n",
      "         <span class=\"field\">\n",
      "          ENVIRONMENT:\n",
      "         </span>\n",
      "         In the middle of the woods, in a clearing covered in snow, with only small shrubs and bushes sticking out of the snow.  In the middle of the night.\n",
      "        </p>\n",
      "        <hr color=\"#009900\" noshade=\"\" size=\"5\"/>\n",
      "        <p>\n",
      "         Follow-up investigation report by BFRO Investigator Dr. Wolf H. Fahrenbach:\n",
      "        </p>\n",
      "        <blockquote>\n",
      "         <p>\n",
      "          The animal was running from the approaching snowmobiles.\n",
      "          <br/>\n",
      "          <br/>\n",
      "          It was running smoothly with angled elbows, totally unimpeded by the fresh snow, which was about a foot deep and still falling on top of a deeper base.\n",
      "          <br/>\n",
      "          <br/>\n",
      "          It was dark brown in color, with a messy, matted coat and no perceptible neck.\n",
      "          <br/>\n",
      "          <br/>\n",
      "          The area of the encounter lies near a clear-cut lane for a pipeline and is within about a mile of the Anchorage Coastal Wildlife Refuge and Potter's Marsh in wooded terrain.\n",
      "          <br/>\n",
      "         </p>\n",
      "        </blockquote>\n",
      "        <hr color=\"#009900\" noshade=\"\" size=\"5\"/>\n",
      "        <p>\n",
      "         About BFRO Investigator Dr. Wolf H. Fahrenbach:\n",
      "        </p>\n",
      "        <blockquote>\n",
      "         <p>\n",
      "          Hair analysis since 1965.  Field work since 1989. Sasquatch courses given in Oregon and Arizona (3-10 weeks duration); Published in Cryptozoology.\n",
      "         </p>\n",
      "        </blockquote>\n",
      "        <hr color=\"#009900\" noshade=\"\" size=\"5\"/>\n",
      "        <ul>\n",
      "         <li>\n",
      "          <a href=\"/gdb/classify.asp\">\n",
      "           Explanation of the report classification system\n",
      "          </a>\n",
      "         </li>\n",
      "         <li>\n",
      "          <a href=\"/GDB/submitfm.asp\">\n",
      "           Submit a report for the sightings database\n",
      "          </a>\n",
      "         </li>\n",
      "         <!--<li><a href=\"/GDB/comments.asp?CommentURL=http%3A%2F%2Fwww%2Ebfro%2Enet%2FGDB%2Fshow%5Freport%2Easp%3Fid%3D13038\">Submit a comment or article</a></li>-->\n",
      "         <li>\n",
      "          Please send any comments or inquiries to Contact@BFRO.net\n",
      "         </li>\n",
      "        </ul>\n",
      "       </td>\n",
      "      </tr>\n",
      "     </table>\n",
      "     <br/>\n",
      "     <!-- END CONTENT SECTION -->\n",
      "    </td>\n",
      "   </tr>\n",
      "   <tr>\n",
      "    <td colspan=\"2\" width=\"131\">\n",
      "     <img height=\"1\" src=\"/images/templates/spacer.gif\" width=\"131\"/>\n",
      "    </td>\n",
      "    <td align=\"left\">\n",
      "     <span class=\"smallprint\">\n",
      "      Copyright © 2017\n",
      "      <!--2017-->\n",
      "      BFRO.net\n",
      "     </span>\n",
      "     <br/>\n",
      "     <br/>\n",
      "     <img height=\"1\" src=\"/images/templates/spacer.gif\" wwidth=\"649\"/>\n",
      "    </td>\n",
      "   </tr>\n",
      "  </table>\n",
      "  <script type=\"text/javascript\">\n",
      "   runLogo();\n",
      "  </script>\n",
      " </body>\n",
      "</html>\n",
      "\n"
     ]
    }
   ],
   "source": [
    "print(soup.prettify())"
   ]
  },
  {
   "cell_type": "code",
   "execution_count": 66,
   "metadata": {},
   "outputs": [
    {
     "name": "stdout",
     "output_type": "stream",
     "text": [
      "[<span class=\"field\">Submitted  by  witness   on Saturday, November 12, 2005.</span>, <span class=\"field\">Snowmobiler has encounter in deep snow near Potter, AK</span>, <span class=\"field\">YEAR:</span>, <span class=\"field\">SEASON:</span>, <span class=\"field\">MONTH:</span>, <span class=\"field\">STATE:</span>, <span class=\"field\">COUNTY:</span>, <span class=\"field\">LOCATION DETAILS:</span>, <span class=\"field\">NEAREST TOWN:</span>, <span class=\"field\">NEAREST ROAD:</span>, <span class=\"field\">OBSERVED:</span>, <span class=\"field\">ALSO NOTICED:</span>, <span class=\"field\">OTHER WITNESSES:</span>, <span class=\"field\">OTHER STORIES:</span>, <span class=\"field\">TIME AND CONDITIONS:</span>, <span class=\"field\">ENVIRONMENT:</span>]\n"
     ]
    }
   ],
   "source": [
    "name = soup.find_all('span', attrs={'class':'field'})\n",
    "print(name)"
   ]
  },
  {
   "cell_type": "code",
   "execution_count": 78,
   "metadata": {},
   "outputs": [
    {
     "data": {
      "text/plain": [
       "'We took off at probably 11 pm, rode up the road about a quarter mile, and cut off on the trails. It had snowed about 10 inches a few days before so there was fresh snow, with no tracks.  '"
      ]
     },
     "execution_count": 78,
     "metadata": {},
     "output_type": "execute_result"
    }
   ],
   "source": [
    "name[10].next.next.next.next.next"
   ]
  },
  {
   "cell_type": "code",
   "execution_count": 88,
   "metadata": {},
   "outputs": [
    {
     "data": {
      "text/plain": [
       "'Submitted  by  witness   on Saturday,\\xa0November\\xa012,\\xa02005.\\n\\nSnowmobiler has encounter in deep snow near Potter, AK\\n\\n(Show Printer-friendly Version)\\nYEAR: 2004\\nSEASON: WinterMONTH: FebruarySTATE: AlaskaCOUNTY: Anchorage CountyLOCATION DETAILS: Up near powerline clearings east of Potter Marsh in Anchorage.NEAREST TOWN: Anchorage / HillsideNEAREST ROAD: No real roads in the areaOBSERVED: I and two of my friends were bored one night so we decided to do a little snowmachining. Though it was illegal to snowmachine in Anchorage, there were some good trails to ride on a little north of my house.  We took off at probably 11 pm, rode up the road about a quarter mile, and cut off on the trails. It had snowed about 10 inches a few days before so there was fresh snow, with no tracks.  I was leading the way for about a half hour, then we stopped and talked for a little bit.  We took off again and kept cruising on some sort of game trail that led to an opening in the woods.  I rode off into the opening with my friends following about fifty yards behind me.  I came over this little mound and saw strange tracks leading to this spot in the snow where it looked like something had pushed aside some snow and layed down.  I figured it was just a moose or something.  But I followed the tracks over the next small hill and as I came down the far side my headlight pointed right on the back of a bigfoot.  It was only about 10 to 12 feet in front of me.  It was running in the opposite direction.  I slammed on the brakes because I was scared out of my mind.  It continued to run away, jumped over a dead log covered in snow and disappeared into a group of trees and into the darkness.  I was so surprised and scared I quickly turned around and rode back toward my friends. I met them back by the first mound and said \"We need to get out of here,\"  and rode back towards my house.  When I told them about it back near my house, they laughed and told me it was probably a bear or someone in the woods.  But I was 100% positive that is was not a bear or anything else. The way it was running through the deep snow made me sure that it wasn\\'t anything human.  For a long time I was made fun of and everyone told me I was crazy so I didn\\'t like talking about it.  ALSO NOTICED: Some tracks in the snow, and a clearing in the fresh snow where it looked like a large animal had pushed snow aside and layed down.OTHER WITNESSES: My two friends were snowmachining behind me but did not see it. If it had been light outside they might have seen it, but it was pitch black outside. My only light was from my snowmachine.OTHER STORIES: I have not heard of any other incidents in Anchorage.TIME AND CONDITIONS: Middle of the night. The only light was the headlight from my snowmachine.ENVIRONMENT: In the middle of the woods, in a clearing covered in snow, with only small shrubs and bushes sticking out of the snow.  In the middle of the night.\\n\\nFollow-up investigation report by BFRO Investigator Dr. Wolf H. Fahrenbach:\\n\\nThe animal was running from the approaching snowmobiles. It was running smoothly with angled elbows, totally unimpeded by the fresh snow, which was about a foot deep and still falling on top of a deeper base. It was dark brown in color, with a messy, matted coat and no perceptible neck.The area of the encounter lies near a clear-cut lane for a pipeline and is within about a mile of the Anchorage Coastal Wildlife Refuge and Potter\\'s Marsh in wooded terrain.\\n\\n\\nAbout BFRO Investigator Dr. Wolf H. Fahrenbach:\\n\\nHair analysis since 1965.  Field work since 1989. Sasquatch courses given in Oregon and Arizona (3-10 weeks duration); Published in Cryptozoology.\\n\\n\\n\\nExplanation of the report classification system\\nSubmit a report for the sightings database\\n<li><a href=\"/GDB/comments.asp?CommentURL=http%3A%2F%2Fwww%2Ebfro%2Enet%2FGDB%2Fshow%5Freport%2Easp%3Fid%3D13038\">Submit a comment or article</a></li>\\nPlease send any comments or inquiries to Contact@BFRO.net\\n\\n\\xa0\\r\\n\\r\\n\\t\\t\\t\\t\\t END CONTENT SECTION \\n\\n\\n\\n\\n\\xa0\\xa0Copyright © 20172017 BFRO.net\\n\\xa0\\r\\n\\t\\t\\t\\t\\n\\nrunLogo();\\n\\n\\n'"
      ]
     },
     "execution_count": 88,
     "metadata": {},
     "output_type": "execute_result"
    }
   ],
   "source": [
    "l = name[0].find_all_next(string = True)\n",
    "text = \"\".join(l)\n",
    "text"
   ]
  },
  {
   "cell_type": "code",
   "execution_count": 7,
   "metadata": {},
   "outputs": [
    {
     "data": {
      "text/plain": [
       "'\\n\\n\\n\\n\\n\\n\\nBFRO Report 13038: Snowmobiler has encounter in deep snow near Potter, AK\\n\\n\\r\\n\\t\\tfunction runLogo() {\\r\\n\\t\\t\\tvar logo = document.getElementById(\"logo\");\\r\\n\\t\\t\\tif(logo != null)\\r\\n\\t\\t\\t{\\r\\n\\t\\t\\t\\tlogo.src=logo.src + \\'a;\\'\\r\\n\\t\\t\\t}\\r\\n\\t\\t}\\r\\n\\t\\t\\r\\n\\t\\t\\n\\n\\n\\n\\n\\n\\r\\n\\t\\t\\t<!--\\r\\n\\t\\t\\t\\tif (document.images) \\r\\n\\t\\t\\t\\t{\\r\\n\\t\\t\\t\\t\\tb_Media_Articles = new Image();\\r\\n\\t\\t\\t\\t\\tb_Media_Articles.src = \"/images/templates/b-Media%20Articles_hl.jpg\";\\r\\n\\t\\t\\t\\t\\tb_Media_Articles_orig = new Image();\\r\\n\\t\\t\\t\\t\\tb_Media_Articles_orig.src = \"/images/templates/b-Media%20Articles.jpg\";\\r\\n\\t\\t\\t\\t\\tb_ReportForm = new Image();\\r\\n\\t\\t\\t\\t\\tb_ReportForm.src = \"/images/templates/b-Report%20Form_hl.jpg\";\\r\\n\\t\\t\\t\\t\\tb_ReportForm_orig = new Image();\\r\\n\\t\\t\\t\\t\\tb_ReportForm_orig.src = \"/images/templates/b-Report%20Form.jpg\";\\r\\n\\t\\t\\t\\t\\tb_Home = new Image();\\r\\n\\t\\t\\t\\t\\tb_Home.src = \"/images/templates/b-Home_hl.jpg\";\\r\\n\\t\\t\\t\\t\\tb_Home_orig = new Image();\\r\\n\\t\\t\\t\\t\\tb_Home_orig.src = \"/images/templates/b-Home.jpg\";\\r\\n\\t\\t\\t\\t}\\r\\n\\r\\n\\t\\t\\t\\tfunction turnOn(imageName) \\r\\n\\t\\t\\t\\t{\\r\\n\\t\\t\\t\\t\\tif (document.images) \\r\\n\\t\\t\\t\\t\\t{\\r\\n\\t\\t\\t\\t\\t\\tdocument[imageName].src = eval(imageName + \".src\");  \\r\\n\\t\\t\\t\\t\\t}\\r\\n\\t\\t\\t\\t}\\r\\n\\r\\n\\t\\t\\t\\tfunction turnOff(imageName) \\r\\n\\t\\t\\t\\t{  \\r\\n\\t\\t\\t\\t\\tif (document.images) \\r\\n\\t\\t\\t\\t\\t{\\r\\n\\t\\t\\t\\t\\t\\t\\tdocument[imageName].src = eval(imageName + \"_orig.src\");  \\r\\n\\t\\t\\t\\t\\t}\\r\\n\\t\\t\\t\\t}\\r\\n\\t\\t\\t\\t-->\\r\\n\\t\\t\\t\\n\\n\\n\\n\\n\\n\\n\\n\\n\\n \\n \\n\\n\\n\\n\\n\\n\\n\\n\\n\\n\\n\\n\\n\\n\\n\\n\\n\\n\\n\\n\\n\\n\\n\\n\\n\\n\\n\\n\\n\\n\\n\\n\\n\\n\\n\\n\\n\\n\\n\\n\\n\\n\\n\\n\\xa0\\n\\n\\n\\n\\n\\n\\n\\n\\n\\n\\n\\n\\n\\r\\nfunction googleTranslateElementInit() {\\r\\n  new google.translate.TranslateElement({\\r\\n    pageLanguage: \\'en\\'\\r\\n  }, \\'google_translate_element\\');\\r\\n}\\r\\n\\n\\n\\n\\n\\n\\n\\n\\n\\n\\n\\nvar addthis_config = {\"data_track_clickback\":true};\\n\\n\\n\\n\\n\\n\\n\\n\\n\\n\\n\\n\\nGeographical Index > United States > Alaska > Anchorage County > Report # 13038\\xa0\\nReport # 13038\\xa0\\xa0(Class A)\\n\\nSubmitted  by  witness   on Saturday,\\xa0November\\xa012,\\xa02005.\\n\\nSnowmobiler has encounter in deep snow near Potter, AK\\n\\n(Show Printer-friendly Version)\\nYEAR: 2004\\nSEASON: WinterMONTH: FebruarySTATE: AlaskaCOUNTY: Anchorage CountyLOCATION DETAILS: Up near powerline clearings east of Potter Marsh in Anchorage.NEAREST TOWN: Anchorage / HillsideNEAREST ROAD: No real roads in the areaOBSERVED: I and two of my friends were bored one night so we decided to do a little snowmachining. Though it was illegal to snowmachine in Anchorage, there were some good trails to ride on a little north of my house.  We took off at probably 11 pm, rode up the road about a quarter mile, and cut off on the trails. It had snowed about 10 inches a few days before so there was fresh snow, with no tracks.  I was leading the way for about a half hour, then we stopped and talked for a little bit.  We took off again and kept cruising on some sort of game trail that led to an opening in the woods.  I rode off into the opening with my friends following about fifty yards behind me.  I came over this little mound and saw strange tracks leading to this spot in the snow where it looked like something had pushed aside some snow and layed down.  I figured it was just a moose or something.  But I followed the tracks over the next small hill and as I came down the far side my headlight pointed right on the back of a bigfoot.  It was only about 10 to 12 feet in front of me.  It was running in the opposite direction.  I slammed on the brakes because I was scared out of my mind.  It continued to run away, jumped over a dead log covered in snow and disappeared into a group of trees and into the darkness.  I was so surprised and scared I quickly turned around and rode back toward my friends. I met them back by the first mound and said \"We need to get out of here,\"  and rode back towards my house.  When I told them about it back near my house, they laughed and told me it was probably a bear or someone in the woods.  But I was 100% positive that is was not a bear or anything else. The way it was running through the deep snow made me sure that it wasn\\'t anything human.  For a long time I was made fun of and everyone told me I was crazy so I didn\\'t like talking about it.  ALSO NOTICED: Some tracks in the snow, and a clearing in the fresh snow where it looked like a large animal had pushed snow aside and layed down.OTHER WITNESSES: My two friends were snowmachining behind me but did not see it. If it had been light outside they might have seen it, but it was pitch black outside. My only light was from my snowmachine.OTHER STORIES: I have not heard of any other incidents in Anchorage.TIME AND CONDITIONS: Middle of the night. The only light was the headlight from my snowmachine.ENVIRONMENT: In the middle of the woods, in a clearing covered in snow, with only small shrubs and bushes sticking out of the snow.  In the middle of the night.\\n\\nFollow-up investigation report by BFRO Investigator Dr. Wolf H. Fahrenbach:\\n\\nThe animal was running from the approaching snowmobiles. It was running smoothly with angled elbows, totally unimpeded by the fresh snow, which was about a foot deep and still falling on top of a deeper base. It was dark brown in color, with a messy, matted coat and no perceptible neck.The area of the encounter lies near a clear-cut lane for a pipeline and is within about a mile of the Anchorage Coastal Wildlife Refuge and Potter\\'s Marsh in wooded terrain.\\n\\n\\nAbout BFRO Investigator Dr. Wolf H. Fahrenbach:\\n\\nHair analysis since 1965.  Field work since 1989. Sasquatch courses given in Oregon and Arizona (3-10 weeks duration); Published in Cryptozoology.\\n\\n\\n\\nExplanation of the report classification system\\nSubmit a report for the sightings database\\n\\nPlease send any comments or inquiries to Contact@BFRO.net\\n\\n\\xa0\\r\\n\\r\\n\\t\\t\\t\\t\\t\\n\\n\\n\\n\\n\\xa0\\xa0Copyright © 2017 BFRO.net\\n\\xa0\\r\\n\\t\\t\\t\\t\\n\\nrunLogo();\\n\\n\\n'"
      ]
     },
     "execution_count": 7,
     "metadata": {},
     "output_type": "execute_result"
    }
   ],
   "source": [
    "soup.get_text()"
   ]
  },
  {
   "cell_type": "code",
   "execution_count": 8,
   "metadata": {},
   "outputs": [
    {
     "data": {
      "text/plain": [
       "[<span style=\"font-size: 10pt\"><a href=\"/gdb/\">Geographical Index</a> &gt; <a href=\"/gdb/#usa\">United States</a> &gt; <a href=\"/GDB/state_listing.asp?state=AK\">Alaska</a> &gt; <a href=\"/GDB/show_county_reports.asp?state=AK&amp;county=Anchorage\">Anchorage County</a> &gt; Report # 13038<br/> <br/></span>,\n",
       " <span class=\"reportheader\">Report # 13038</span>,\n",
       " <span class=\"reportclassification\">(Class A)</span>,\n",
       " <span class=\"field\">Submitted  by  witness   on Saturday, November 12, 2005.</span>,\n",
       " <span class=\"field\">Snowmobiler has encounter in deep snow near Potter, AK</span>,\n",
       " <span style=\"font-size:10pt\"><a href=\"/GDB/show_report.asp?ID=13038&amp;PrinterFriendly=True\">(Show Printer-friendly Version)</a></span>,\n",
       " <span class=\"field\">YEAR:</span>,\n",
       " <span class=\"field\">SEASON:</span>,\n",
       " <span class=\"field\">MONTH:</span>,\n",
       " <span class=\"field\">STATE:</span>,\n",
       " <span class=\"field\">COUNTY:</span>,\n",
       " <span class=\"field\">LOCATION DETAILS:</span>,\n",
       " <span class=\"field\">NEAREST TOWN:</span>,\n",
       " <span class=\"field\">NEAREST ROAD:</span>,\n",
       " <span class=\"field\">OBSERVED:</span>,\n",
       " <span class=\"field\">ALSO NOTICED:</span>,\n",
       " <span class=\"field\">OTHER WITNESSES:</span>,\n",
       " <span class=\"field\">OTHER STORIES:</span>,\n",
       " <span class=\"field\">TIME AND CONDITIONS:</span>,\n",
       " <span class=\"field\">ENVIRONMENT:</span>,\n",
       " <span class=\"smallprint\">Copyright © 2017<!--2017--> BFRO.net</span>]"
      ]
     },
     "execution_count": 8,
     "metadata": {},
     "output_type": "execute_result"
    }
   ],
   "source": [
    "soup.find_all('span')"
   ]
  },
  {
   "cell_type": "code",
   "execution_count": 11,
   "metadata": {},
   "outputs": [
    {
     "name": "stdout",
     "output_type": "stream",
     "text": [
      "None\n"
     ]
    }
   ],
   "source": []
  },
  {
   "cell_type": "code",
   "execution_count": 118,
   "metadata": {},
   "outputs": [],
   "source": [
    "run kelly.py"
   ]
  },
  {
   "cell_type": "code",
   "execution_count": 8,
   "metadata": {},
   "outputs": [],
   "source": [
    "import numpy as np\n",
    "import pandas as pd"
   ]
  },
  {
   "cell_type": "code",
   "execution_count": 106,
   "metadata": {},
   "outputs": [
    {
     "data": {
      "text/plain": [
       "numpy.ndarray"
      ]
     },
     "execution_count": 106,
     "metadata": {},
     "output_type": "execute_result"
    }
   ],
   "source": [
    "import numpy as np\n",
    "test = np.array(mega)\n",
    "test.shape\n",
    "type(test)"
   ]
  },
  {
   "cell_type": "code",
   "execution_count": 7,
   "metadata": {},
   "outputs": [],
   "source": [
    "from sklearn.feature_extraction.text import CountVectorizer\n",
    "from sklearn.feature_extraction.text import TfidfTransformer, TfidfVectorizer"
   ]
  },
  {
   "cell_type": "code",
   "execution_count": 108,
   "metadata": {},
   "outputs": [
    {
     "ename": "AttributeError",
     "evalue": "'list' object has no attribute 'lower'",
     "output_type": "error",
     "traceback": [
      "\u001b[0;31m---------------------------------------------------------------------------\u001b[0m",
      "\u001b[0;31mAttributeError\u001b[0m                            Traceback (most recent call last)",
      "\u001b[0;32m<ipython-input-108-becc094bcc7e>\u001b[0m in \u001b[0;36m<module>\u001b[0;34m()\u001b[0m\n\u001b[0;32m----> 1\u001b[0;31m \u001b[0mbow_transformer\u001b[0m \u001b[0;34m=\u001b[0m \u001b[0mCountVectorizer\u001b[0m\u001b[0;34m(\u001b[0m\u001b[0mstop_words\u001b[0m\u001b[0;34m=\u001b[0m\u001b[0;34m'english'\u001b[0m\u001b[0;34m)\u001b[0m\u001b[0;34m.\u001b[0m\u001b[0mfit\u001b[0m\u001b[0;34m(\u001b[0m\u001b[0mtest\u001b[0m\u001b[0;34m)\u001b[0m\u001b[0;34m\u001b[0m\u001b[0m\n\u001b[0m\u001b[1;32m      2\u001b[0m \u001b[0mbow_transform\u001b[0m \u001b[0;34m=\u001b[0m \u001b[0mbow_transformer\u001b[0m\u001b[0;34m.\u001b[0m\u001b[0mtransform\u001b[0m\u001b[0;34m(\u001b[0m\u001b[0mtest\u001b[0m\u001b[0;34m)\u001b[0m\u001b[0;34m\u001b[0m\u001b[0m\n\u001b[1;32m      3\u001b[0m \u001b[0mtfidf_transformer\u001b[0m \u001b[0;34m=\u001b[0m \u001b[0mTfidfTransformer\u001b[0m\u001b[0;34m(\u001b[0m\u001b[0;34m)\u001b[0m\u001b[0;34m.\u001b[0m\u001b[0mfit\u001b[0m\u001b[0;34m(\u001b[0m\u001b[0mbow_transform\u001b[0m\u001b[0;34m)\u001b[0m\u001b[0;34m\u001b[0m\u001b[0m\n\u001b[1;32m      4\u001b[0m \u001b[0mtfidf_transform\u001b[0m \u001b[0;34m=\u001b[0m \u001b[0mtfidf_transformer\u001b[0m\u001b[0;34m.\u001b[0m\u001b[0mtransform\u001b[0m\u001b[0;34m(\u001b[0m\u001b[0mbow_transform\u001b[0m\u001b[0;34m)\u001b[0m\u001b[0;34m\u001b[0m\u001b[0m\n",
      "\u001b[0;32m~/anaconda3/lib/python3.6/site-packages/sklearn/feature_extraction/text.py\u001b[0m in \u001b[0;36mfit\u001b[0;34m(self, raw_documents, y)\u001b[0m\n\u001b[1;32m    834\u001b[0m         \u001b[0mself\u001b[0m\u001b[0;34m\u001b[0m\u001b[0m\n\u001b[1;32m    835\u001b[0m         \"\"\"\n\u001b[0;32m--> 836\u001b[0;31m         \u001b[0mself\u001b[0m\u001b[0;34m.\u001b[0m\u001b[0mfit_transform\u001b[0m\u001b[0;34m(\u001b[0m\u001b[0mraw_documents\u001b[0m\u001b[0;34m)\u001b[0m\u001b[0;34m\u001b[0m\u001b[0m\n\u001b[0m\u001b[1;32m    837\u001b[0m         \u001b[0;32mreturn\u001b[0m \u001b[0mself\u001b[0m\u001b[0;34m\u001b[0m\u001b[0m\n\u001b[1;32m    838\u001b[0m \u001b[0;34m\u001b[0m\u001b[0m\n",
      "\u001b[0;32m~/anaconda3/lib/python3.6/site-packages/sklearn/feature_extraction/text.py\u001b[0m in \u001b[0;36mfit_transform\u001b[0;34m(self, raw_documents, y)\u001b[0m\n\u001b[1;32m    867\u001b[0m \u001b[0;34m\u001b[0m\u001b[0m\n\u001b[1;32m    868\u001b[0m         vocabulary, X = self._count_vocab(raw_documents,\n\u001b[0;32m--> 869\u001b[0;31m                                           self.fixed_vocabulary_)\n\u001b[0m\u001b[1;32m    870\u001b[0m \u001b[0;34m\u001b[0m\u001b[0m\n\u001b[1;32m    871\u001b[0m         \u001b[0;32mif\u001b[0m \u001b[0mself\u001b[0m\u001b[0;34m.\u001b[0m\u001b[0mbinary\u001b[0m\u001b[0;34m:\u001b[0m\u001b[0;34m\u001b[0m\u001b[0m\n",
      "\u001b[0;32m~/anaconda3/lib/python3.6/site-packages/sklearn/feature_extraction/text.py\u001b[0m in \u001b[0;36m_count_vocab\u001b[0;34m(self, raw_documents, fixed_vocab)\u001b[0m\n\u001b[1;32m    790\u001b[0m         \u001b[0;32mfor\u001b[0m \u001b[0mdoc\u001b[0m \u001b[0;32min\u001b[0m \u001b[0mraw_documents\u001b[0m\u001b[0;34m:\u001b[0m\u001b[0;34m\u001b[0m\u001b[0m\n\u001b[1;32m    791\u001b[0m             \u001b[0mfeature_counter\u001b[0m \u001b[0;34m=\u001b[0m \u001b[0;34m{\u001b[0m\u001b[0;34m}\u001b[0m\u001b[0;34m\u001b[0m\u001b[0m\n\u001b[0;32m--> 792\u001b[0;31m             \u001b[0;32mfor\u001b[0m \u001b[0mfeature\u001b[0m \u001b[0;32min\u001b[0m \u001b[0manalyze\u001b[0m\u001b[0;34m(\u001b[0m\u001b[0mdoc\u001b[0m\u001b[0;34m)\u001b[0m\u001b[0;34m:\u001b[0m\u001b[0;34m\u001b[0m\u001b[0m\n\u001b[0m\u001b[1;32m    793\u001b[0m                 \u001b[0;32mtry\u001b[0m\u001b[0;34m:\u001b[0m\u001b[0;34m\u001b[0m\u001b[0m\n\u001b[1;32m    794\u001b[0m                     \u001b[0mfeature_idx\u001b[0m \u001b[0;34m=\u001b[0m \u001b[0mvocabulary\u001b[0m\u001b[0;34m[\u001b[0m\u001b[0mfeature\u001b[0m\u001b[0;34m]\u001b[0m\u001b[0;34m\u001b[0m\u001b[0m\n",
      "\u001b[0;32m~/anaconda3/lib/python3.6/site-packages/sklearn/feature_extraction/text.py\u001b[0m in \u001b[0;36m<lambda>\u001b[0;34m(doc)\u001b[0m\n\u001b[1;32m    264\u001b[0m \u001b[0;34m\u001b[0m\u001b[0m\n\u001b[1;32m    265\u001b[0m             return lambda doc: self._word_ngrams(\n\u001b[0;32m--> 266\u001b[0;31m                 tokenize(preprocess(self.decode(doc))), stop_words)\n\u001b[0m\u001b[1;32m    267\u001b[0m \u001b[0;34m\u001b[0m\u001b[0m\n\u001b[1;32m    268\u001b[0m         \u001b[0;32melse\u001b[0m\u001b[0;34m:\u001b[0m\u001b[0;34m\u001b[0m\u001b[0m\n",
      "\u001b[0;32m~/anaconda3/lib/python3.6/site-packages/sklearn/feature_extraction/text.py\u001b[0m in \u001b[0;36m<lambda>\u001b[0;34m(x)\u001b[0m\n\u001b[1;32m    230\u001b[0m \u001b[0;34m\u001b[0m\u001b[0m\n\u001b[1;32m    231\u001b[0m         \u001b[0;32mif\u001b[0m \u001b[0mself\u001b[0m\u001b[0;34m.\u001b[0m\u001b[0mlowercase\u001b[0m\u001b[0;34m:\u001b[0m\u001b[0;34m\u001b[0m\u001b[0m\n\u001b[0;32m--> 232\u001b[0;31m             \u001b[0;32mreturn\u001b[0m \u001b[0;32mlambda\u001b[0m \u001b[0mx\u001b[0m\u001b[0;34m:\u001b[0m \u001b[0mstrip_accents\u001b[0m\u001b[0;34m(\u001b[0m\u001b[0mx\u001b[0m\u001b[0;34m.\u001b[0m\u001b[0mlower\u001b[0m\u001b[0;34m(\u001b[0m\u001b[0;34m)\u001b[0m\u001b[0;34m)\u001b[0m\u001b[0;34m\u001b[0m\u001b[0m\n\u001b[0m\u001b[1;32m    233\u001b[0m         \u001b[0;32melse\u001b[0m\u001b[0;34m:\u001b[0m\u001b[0;34m\u001b[0m\u001b[0m\n\u001b[1;32m    234\u001b[0m             \u001b[0;32mreturn\u001b[0m \u001b[0mstrip_accents\u001b[0m\u001b[0;34m\u001b[0m\u001b[0m\n",
      "\u001b[0;31mAttributeError\u001b[0m: 'list' object has no attribute 'lower'"
     ]
    }
   ],
   "source": [
    "bow_transformer = CountVectorizer(stop_words='english').fit(test)\n",
    "bow_transform = bow_transformer.transform(test)\n",
    "tfidf_transformer = TfidfTransformer().fit(bow_transform)\n",
    "tfidf_transform = tfidf_transformer.transform(bow_transform)"
   ]
  },
  {
   "cell_type": "code",
   "execution_count": 119,
   "metadata": {},
   "outputs": [],
   "source": [
    "run rob.py"
   ]
  },
  {
   "cell_type": "code",
   "execution_count": 120,
   "metadata": {},
   "outputs": [
    {
     "ename": "KeyboardInterrupt",
     "evalue": "",
     "output_type": "error",
     "traceback": [
      "\u001b[0;31m---------------------------------------------------------------------------\u001b[0m",
      "\u001b[0;31mKeyboardInterrupt\u001b[0m                         Traceback (most recent call last)",
      "\u001b[0;32m<ipython-input-120-70ac057c4ddb>\u001b[0m in \u001b[0;36m<module>\u001b[0;34m()\u001b[0m\n\u001b[0;32m----> 1\u001b[0;31m \u001b[0mget_content\u001b[0m\u001b[0;34m(\u001b[0m\u001b[0;34m)\u001b[0m\u001b[0;34m\u001b[0m\u001b[0m\n\u001b[0m",
      "\u001b[0;32m~/galvanize/dsi-unsupervised-case-study/rob.py\u001b[0m in \u001b[0;36mget_content\u001b[0;34m()\u001b[0m\n\u001b[1;32m     20\u001b[0m         \u001b[0msoup\u001b[0m \u001b[0;34m=\u001b[0m \u001b[0mBeautifulSoup\u001b[0m\u001b[0;34m(\u001b[0m\u001b[0mreports\u001b[0m\u001b[0;34m[\u001b[0m\u001b[0mi\u001b[0m\u001b[0;34m]\u001b[0m\u001b[0;34m[\u001b[0m\u001b[0;34m'html'\u001b[0m\u001b[0;34m]\u001b[0m\u001b[0;34m,\u001b[0m \u001b[0;34m'html.parser'\u001b[0m\u001b[0;34m)\u001b[0m\u001b[0;34m\u001b[0m\u001b[0m\n\u001b[1;32m     21\u001b[0m \u001b[0;34m\u001b[0m\u001b[0m\n\u001b[0;32m---> 22\u001b[0;31m         \u001b[0mtables\u001b[0m \u001b[0;34m=\u001b[0m \u001b[0mpd\u001b[0m\u001b[0;34m.\u001b[0m\u001b[0mread_html\u001b[0m\u001b[0;34m(\u001b[0m\u001b[0mdata\u001b[0m\u001b[0;34m.\u001b[0m\u001b[0miloc\u001b[0m\u001b[0;34m[\u001b[0m\u001b[0mi\u001b[0m\u001b[0;34m,\u001b[0m\u001b[0;36m1\u001b[0m\u001b[0;34m]\u001b[0m\u001b[0;34m)\u001b[0m\u001b[0;34m\u001b[0m\u001b[0m\n\u001b[0m\u001b[1;32m     23\u001b[0m         \u001b[0mcontent\u001b[0m \u001b[0;34m=\u001b[0m \u001b[0mtables\u001b[0m\u001b[0;34m[\u001b[0m\u001b[0;36m3\u001b[0m\u001b[0;34m]\u001b[0m\u001b[0;34m[\u001b[0m\u001b[0;36m0\u001b[0m\u001b[0;34m]\u001b[0m\u001b[0;34m[\u001b[0m\u001b[0;36m0\u001b[0m\u001b[0;34m]\u001b[0m\u001b[0;34m\u001b[0m\u001b[0m\n\u001b[1;32m     24\u001b[0m         \u001b[0mcontent_list\u001b[0m\u001b[0;34m.\u001b[0m\u001b[0mappend\u001b[0m\u001b[0;34m(\u001b[0m\u001b[0mcontent\u001b[0m\u001b[0;34m)\u001b[0m\u001b[0;34m\u001b[0m\u001b[0m\n",
      "\u001b[0;32m~/anaconda3/lib/python3.6/site-packages/pandas/io/html.py\u001b[0m in \u001b[0;36mread_html\u001b[0;34m(io, match, flavor, header, index_col, skiprows, attrs, parse_dates, tupleize_cols, thousands, encoding, decimal, converters, na_values, keep_default_na, displayed_only)\u001b[0m\n\u001b[1;32m    985\u001b[0m                   \u001b[0mdecimal\u001b[0m\u001b[0;34m=\u001b[0m\u001b[0mdecimal\u001b[0m\u001b[0;34m,\u001b[0m \u001b[0mconverters\u001b[0m\u001b[0;34m=\u001b[0m\u001b[0mconverters\u001b[0m\u001b[0;34m,\u001b[0m \u001b[0mna_values\u001b[0m\u001b[0;34m=\u001b[0m\u001b[0mna_values\u001b[0m\u001b[0;34m,\u001b[0m\u001b[0;34m\u001b[0m\u001b[0m\n\u001b[1;32m    986\u001b[0m                   \u001b[0mkeep_default_na\u001b[0m\u001b[0;34m=\u001b[0m\u001b[0mkeep_default_na\u001b[0m\u001b[0;34m,\u001b[0m\u001b[0;34m\u001b[0m\u001b[0m\n\u001b[0;32m--> 987\u001b[0;31m                   displayed_only=displayed_only)\n\u001b[0m",
      "\u001b[0;32m~/anaconda3/lib/python3.6/site-packages/pandas/io/html.py\u001b[0m in \u001b[0;36m_parse\u001b[0;34m(flavor, io, match, attrs, encoding, displayed_only, **kwargs)\u001b[0m\n\u001b[1;32m    818\u001b[0m     \u001b[0;32mfor\u001b[0m \u001b[0mtable\u001b[0m \u001b[0;32min\u001b[0m \u001b[0mtables\u001b[0m\u001b[0;34m:\u001b[0m\u001b[0;34m\u001b[0m\u001b[0m\n\u001b[1;32m    819\u001b[0m         \u001b[0;32mtry\u001b[0m\u001b[0;34m:\u001b[0m\u001b[0;34m\u001b[0m\u001b[0m\n\u001b[0;32m--> 820\u001b[0;31m             \u001b[0mret\u001b[0m\u001b[0;34m.\u001b[0m\u001b[0mappend\u001b[0m\u001b[0;34m(\u001b[0m\u001b[0m_data_to_frame\u001b[0m\u001b[0;34m(\u001b[0m\u001b[0mdata\u001b[0m\u001b[0;34m=\u001b[0m\u001b[0mtable\u001b[0m\u001b[0;34m,\u001b[0m \u001b[0;34m**\u001b[0m\u001b[0mkwargs\u001b[0m\u001b[0;34m)\u001b[0m\u001b[0;34m)\u001b[0m\u001b[0;34m\u001b[0m\u001b[0m\n\u001b[0m\u001b[1;32m    821\u001b[0m         \u001b[0;32mexcept\u001b[0m \u001b[0mEmptyDataError\u001b[0m\u001b[0;34m:\u001b[0m  \u001b[0;31m# empty table\u001b[0m\u001b[0;34m\u001b[0m\u001b[0m\n\u001b[1;32m    822\u001b[0m             \u001b[0;32mcontinue\u001b[0m\u001b[0;34m\u001b[0m\u001b[0m\n",
      "\u001b[0;32m~/anaconda3/lib/python3.6/site-packages/pandas/io/html.py\u001b[0m in \u001b[0;36m_data_to_frame\u001b[0;34m(**kwargs)\u001b[0m\n\u001b[1;32m    701\u001b[0m     \u001b[0m_expand_elements\u001b[0m\u001b[0;34m(\u001b[0m\u001b[0mbody\u001b[0m\u001b[0;34m)\u001b[0m\u001b[0;34m\u001b[0m\u001b[0m\n\u001b[1;32m    702\u001b[0m     \u001b[0mtp\u001b[0m \u001b[0;34m=\u001b[0m \u001b[0mTextParser\u001b[0m\u001b[0;34m(\u001b[0m\u001b[0mbody\u001b[0m\u001b[0;34m,\u001b[0m \u001b[0mheader\u001b[0m\u001b[0;34m=\u001b[0m\u001b[0mheader\u001b[0m\u001b[0;34m,\u001b[0m \u001b[0;34m**\u001b[0m\u001b[0mkwargs\u001b[0m\u001b[0;34m)\u001b[0m\u001b[0;34m\u001b[0m\u001b[0m\n\u001b[0;32m--> 703\u001b[0;31m     \u001b[0mdf\u001b[0m \u001b[0;34m=\u001b[0m \u001b[0mtp\u001b[0m\u001b[0;34m.\u001b[0m\u001b[0mread\u001b[0m\u001b[0;34m(\u001b[0m\u001b[0;34m)\u001b[0m\u001b[0;34m\u001b[0m\u001b[0m\n\u001b[0m\u001b[1;32m    704\u001b[0m     \u001b[0;32mreturn\u001b[0m \u001b[0mdf\u001b[0m\u001b[0;34m\u001b[0m\u001b[0m\n\u001b[1;32m    705\u001b[0m \u001b[0;34m\u001b[0m\u001b[0m\n",
      "\u001b[0;32m~/anaconda3/lib/python3.6/site-packages/pandas/io/parsers.py\u001b[0m in \u001b[0;36mread\u001b[0;34m(self, nrows)\u001b[0m\n\u001b[1;32m   1049\u001b[0m             \u001b[0mnew_rows\u001b[0m \u001b[0;34m=\u001b[0m \u001b[0mlen\u001b[0m\u001b[0;34m(\u001b[0m\u001b[0mindex\u001b[0m\u001b[0;34m)\u001b[0m\u001b[0;34m\u001b[0m\u001b[0m\n\u001b[1;32m   1050\u001b[0m \u001b[0;34m\u001b[0m\u001b[0m\n\u001b[0;32m-> 1051\u001b[0;31m         \u001b[0mdf\u001b[0m \u001b[0;34m=\u001b[0m \u001b[0mDataFrame\u001b[0m\u001b[0;34m(\u001b[0m\u001b[0mcol_dict\u001b[0m\u001b[0;34m,\u001b[0m \u001b[0mcolumns\u001b[0m\u001b[0;34m=\u001b[0m\u001b[0mcolumns\u001b[0m\u001b[0;34m,\u001b[0m \u001b[0mindex\u001b[0m\u001b[0;34m=\u001b[0m\u001b[0mindex\u001b[0m\u001b[0;34m)\u001b[0m\u001b[0;34m\u001b[0m\u001b[0m\n\u001b[0m\u001b[1;32m   1052\u001b[0m \u001b[0;34m\u001b[0m\u001b[0m\n\u001b[1;32m   1053\u001b[0m         \u001b[0mself\u001b[0m\u001b[0;34m.\u001b[0m\u001b[0m_currow\u001b[0m \u001b[0;34m+=\u001b[0m \u001b[0mnew_rows\u001b[0m\u001b[0;34m\u001b[0m\u001b[0m\n",
      "\u001b[0;32m~/anaconda3/lib/python3.6/site-packages/pandas/core/frame.py\u001b[0m in \u001b[0;36m__init__\u001b[0;34m(self, data, index, columns, dtype, copy)\u001b[0m\n\u001b[1;32m    346\u001b[0m                                  dtype=dtype, copy=copy)\n\u001b[1;32m    347\u001b[0m         \u001b[0;32melif\u001b[0m \u001b[0misinstance\u001b[0m\u001b[0;34m(\u001b[0m\u001b[0mdata\u001b[0m\u001b[0;34m,\u001b[0m \u001b[0mdict\u001b[0m\u001b[0;34m)\u001b[0m\u001b[0;34m:\u001b[0m\u001b[0;34m\u001b[0m\u001b[0m\n\u001b[0;32m--> 348\u001b[0;31m             \u001b[0mmgr\u001b[0m \u001b[0;34m=\u001b[0m \u001b[0mself\u001b[0m\u001b[0;34m.\u001b[0m\u001b[0m_init_dict\u001b[0m\u001b[0;34m(\u001b[0m\u001b[0mdata\u001b[0m\u001b[0;34m,\u001b[0m \u001b[0mindex\u001b[0m\u001b[0;34m,\u001b[0m \u001b[0mcolumns\u001b[0m\u001b[0;34m,\u001b[0m \u001b[0mdtype\u001b[0m\u001b[0;34m=\u001b[0m\u001b[0mdtype\u001b[0m\u001b[0;34m)\u001b[0m\u001b[0;34m\u001b[0m\u001b[0m\n\u001b[0m\u001b[1;32m    349\u001b[0m         \u001b[0;32melif\u001b[0m \u001b[0misinstance\u001b[0m\u001b[0;34m(\u001b[0m\u001b[0mdata\u001b[0m\u001b[0;34m,\u001b[0m \u001b[0mma\u001b[0m\u001b[0;34m.\u001b[0m\u001b[0mMaskedArray\u001b[0m\u001b[0;34m)\u001b[0m\u001b[0;34m:\u001b[0m\u001b[0;34m\u001b[0m\u001b[0m\n\u001b[1;32m    350\u001b[0m             \u001b[0;32mimport\u001b[0m \u001b[0mnumpy\u001b[0m\u001b[0;34m.\u001b[0m\u001b[0mma\u001b[0m\u001b[0;34m.\u001b[0m\u001b[0mmrecords\u001b[0m \u001b[0;32mas\u001b[0m \u001b[0mmrecords\u001b[0m\u001b[0;34m\u001b[0m\u001b[0m\n",
      "\u001b[0;32m~/anaconda3/lib/python3.6/site-packages/pandas/core/frame.py\u001b[0m in \u001b[0;36m_init_dict\u001b[0;34m(self, data, index, columns, dtype)\u001b[0m\n\u001b[1;32m    430\u001b[0m         \"\"\"\n\u001b[1;32m    431\u001b[0m         \u001b[0;32mif\u001b[0m \u001b[0mcolumns\u001b[0m \u001b[0;32mis\u001b[0m \u001b[0;32mnot\u001b[0m \u001b[0;32mNone\u001b[0m\u001b[0;34m:\u001b[0m\u001b[0;34m\u001b[0m\u001b[0m\n\u001b[0;32m--> 432\u001b[0;31m             \u001b[0marrays\u001b[0m \u001b[0;34m=\u001b[0m \u001b[0mSeries\u001b[0m\u001b[0;34m(\u001b[0m\u001b[0mdata\u001b[0m\u001b[0;34m,\u001b[0m \u001b[0mindex\u001b[0m\u001b[0;34m=\u001b[0m\u001b[0mcolumns\u001b[0m\u001b[0;34m,\u001b[0m \u001b[0mdtype\u001b[0m\u001b[0;34m=\u001b[0m\u001b[0mobject\u001b[0m\u001b[0;34m)\u001b[0m\u001b[0;34m\u001b[0m\u001b[0m\n\u001b[0m\u001b[1;32m    433\u001b[0m             \u001b[0mdata_names\u001b[0m \u001b[0;34m=\u001b[0m \u001b[0marrays\u001b[0m\u001b[0;34m.\u001b[0m\u001b[0mindex\u001b[0m\u001b[0;34m\u001b[0m\u001b[0m\n\u001b[1;32m    434\u001b[0m \u001b[0;34m\u001b[0m\u001b[0m\n",
      "\u001b[0;32m~/anaconda3/lib/python3.6/site-packages/pandas/core/series.py\u001b[0m in \u001b[0;36m__init__\u001b[0;34m(self, data, index, dtype, name, copy, fastpath)\u001b[0m\n\u001b[1;32m    181\u001b[0m \u001b[0;34m\u001b[0m\u001b[0m\n\u001b[1;32m    182\u001b[0m             \u001b[0;32mif\u001b[0m \u001b[0mindex\u001b[0m \u001b[0;32mis\u001b[0m \u001b[0;32mnot\u001b[0m \u001b[0;32mNone\u001b[0m\u001b[0;34m:\u001b[0m\u001b[0;34m\u001b[0m\u001b[0m\n\u001b[0;32m--> 183\u001b[0;31m                 \u001b[0mindex\u001b[0m \u001b[0;34m=\u001b[0m \u001b[0m_ensure_index\u001b[0m\u001b[0;34m(\u001b[0m\u001b[0mindex\u001b[0m\u001b[0;34m)\u001b[0m\u001b[0;34m\u001b[0m\u001b[0m\n\u001b[0m\u001b[1;32m    184\u001b[0m \u001b[0;34m\u001b[0m\u001b[0m\n\u001b[1;32m    185\u001b[0m             \u001b[0;32mif\u001b[0m \u001b[0mdata\u001b[0m \u001b[0;32mis\u001b[0m \u001b[0;32mNone\u001b[0m\u001b[0;34m:\u001b[0m\u001b[0;34m\u001b[0m\u001b[0m\n",
      "\u001b[0;32m~/anaconda3/lib/python3.6/site-packages/pandas/core/indexes/base.py\u001b[0m in \u001b[0;36m_ensure_index\u001b[0;34m(index_like, copy)\u001b[0m\n\u001b[1;32m   4942\u001b[0m             \u001b[0mindex_like\u001b[0m \u001b[0;34m=\u001b[0m \u001b[0mlist\u001b[0m\u001b[0;34m(\u001b[0m\u001b[0mindex_like\u001b[0m\u001b[0;34m)\u001b[0m\u001b[0;34m\u001b[0m\u001b[0m\n\u001b[1;32m   4943\u001b[0m \u001b[0;34m\u001b[0m\u001b[0m\n\u001b[0;32m-> 4944\u001b[0;31m         \u001b[0mconverted\u001b[0m\u001b[0;34m,\u001b[0m \u001b[0mall_arrays\u001b[0m \u001b[0;34m=\u001b[0m \u001b[0mlib\u001b[0m\u001b[0;34m.\u001b[0m\u001b[0mclean_index_list\u001b[0m\u001b[0;34m(\u001b[0m\u001b[0mindex_like\u001b[0m\u001b[0;34m)\u001b[0m\u001b[0;34m\u001b[0m\u001b[0m\n\u001b[0m\u001b[1;32m   4945\u001b[0m \u001b[0;34m\u001b[0m\u001b[0m\n\u001b[1;32m   4946\u001b[0m         \u001b[0;32mif\u001b[0m \u001b[0mlen\u001b[0m\u001b[0;34m(\u001b[0m\u001b[0mconverted\u001b[0m\u001b[0;34m)\u001b[0m \u001b[0;34m>\u001b[0m \u001b[0;36m0\u001b[0m \u001b[0;32mand\u001b[0m \u001b[0mall_arrays\u001b[0m\u001b[0;34m:\u001b[0m\u001b[0;34m\u001b[0m\u001b[0m\n",
      "\u001b[0;32mpandas/_libs/lib.pyx\u001b[0m in \u001b[0;36mpandas._libs.lib.clean_index_list\u001b[0;34m()\u001b[0m\n",
      "\u001b[0;32mpandas/_libs/src/inference.pyx\u001b[0m in \u001b[0;36mpandas._libs.lib.infer_dtype\u001b[0;34m()\u001b[0m\n",
      "\u001b[0;32m~/anaconda3/lib/python3.6/importlib/_bootstrap.py\u001b[0m in \u001b[0;36m_find_and_load\u001b[0;34m(name, import_)\u001b[0m\n",
      "\u001b[0;32m~/anaconda3/lib/python3.6/importlib/_bootstrap.py\u001b[0m in \u001b[0;36m_find_and_load_unlocked\u001b[0;34m(name, import_)\u001b[0m\n",
      "\u001b[0;31mKeyboardInterrupt\u001b[0m: "
     ]
    }
   ],
   "source": []
  },
  {
   "cell_type": "code",
   "execution_count": 2,
   "metadata": {},
   "outputs": [],
   "source": [
    "run rob.py"
   ]
  },
  {
   "cell_type": "code",
   "execution_count": 4,
   "metadata": {},
   "outputs": [
    {
     "ename": "KeyboardInterrupt",
     "evalue": "",
     "output_type": "error",
     "traceback": [
      "\u001b[0;31m---------------------------------------------------------------------------\u001b[0m",
      "\u001b[0;31mKeyboardInterrupt\u001b[0m                         Traceback (most recent call last)",
      "\u001b[0;32m<ipython-input-4-7a5cafedc9b4>\u001b[0m in \u001b[0;36m<module>\u001b[0;34m()\u001b[0m\n\u001b[0;32m----> 1\u001b[0;31m \u001b[0mdata\u001b[0m \u001b[0;34m=\u001b[0m \u001b[0mget_content\u001b[0m\u001b[0;34m(\u001b[0m\u001b[0;34m)\u001b[0m\u001b[0;34m\u001b[0m\u001b[0m\n\u001b[0m\u001b[1;32m      2\u001b[0m \u001b[0mdata\u001b[0m\u001b[0;34m\u001b[0m\u001b[0m\n",
      "\u001b[0;32m~/galvanize/dsi-unsupervised-case-study/rob.py\u001b[0m in \u001b[0;36mget_content\u001b[0;34m()\u001b[0m\n\u001b[1;32m     19\u001b[0m     \u001b[0mdata\u001b[0m \u001b[0;34m=\u001b[0m \u001b[0mpd\u001b[0m\u001b[0;34m.\u001b[0m\u001b[0mread_json\u001b[0m\u001b[0;34m(\u001b[0m\u001b[0;34m'bigfoot_data.json'\u001b[0m\u001b[0;34m,\u001b[0m \u001b[0mlines\u001b[0m\u001b[0;34m=\u001b[0m\u001b[0;34m'true'\u001b[0m\u001b[0;34m,\u001b[0m\u001b[0morient\u001b[0m\u001b[0;34m=\u001b[0m\u001b[0;34m'records'\u001b[0m\u001b[0;34m)\u001b[0m\u001b[0;34m\u001b[0m\u001b[0m\n\u001b[1;32m     20\u001b[0m     \u001b[0;32mfor\u001b[0m \u001b[0mi\u001b[0m \u001b[0;32min\u001b[0m \u001b[0mrange\u001b[0m\u001b[0;34m(\u001b[0m\u001b[0mlen\u001b[0m\u001b[0;34m(\u001b[0m\u001b[0mreports\u001b[0m\u001b[0;34m)\u001b[0m\u001b[0;34m)\u001b[0m\u001b[0;34m:\u001b[0m\u001b[0;34m\u001b[0m\u001b[0m\n\u001b[0;32m---> 21\u001b[0;31m         \u001b[0msoup\u001b[0m \u001b[0;34m=\u001b[0m \u001b[0mBeautifulSoup\u001b[0m\u001b[0;34m(\u001b[0m\u001b[0mreports\u001b[0m\u001b[0;34m[\u001b[0m\u001b[0mi\u001b[0m\u001b[0;34m]\u001b[0m\u001b[0;34m[\u001b[0m\u001b[0;34m'html'\u001b[0m\u001b[0;34m]\u001b[0m\u001b[0;34m,\u001b[0m \u001b[0;34m'html.parser'\u001b[0m\u001b[0;34m)\u001b[0m\u001b[0;34m\u001b[0m\u001b[0m\n\u001b[0m\u001b[1;32m     22\u001b[0m \u001b[0;34m\u001b[0m\u001b[0m\n\u001b[1;32m     23\u001b[0m         \u001b[0mtables\u001b[0m \u001b[0;34m=\u001b[0m \u001b[0mpd\u001b[0m\u001b[0;34m.\u001b[0m\u001b[0mread_html\u001b[0m\u001b[0;34m(\u001b[0m\u001b[0mdata\u001b[0m\u001b[0;34m.\u001b[0m\u001b[0miloc\u001b[0m\u001b[0;34m[\u001b[0m\u001b[0mi\u001b[0m\u001b[0;34m,\u001b[0m\u001b[0;36m1\u001b[0m\u001b[0;34m]\u001b[0m\u001b[0;34m)\u001b[0m\u001b[0;34m\u001b[0m\u001b[0m\n",
      "\u001b[0;32m~/anaconda3/lib/python3.6/site-packages/bs4/__init__.py\u001b[0m in \u001b[0;36m__init__\u001b[0;34m(self, markup, features, builder, parse_only, from_encoding, exclude_encodings, **kwargs)\u001b[0m\n\u001b[1;32m    226\u001b[0m             \u001b[0mself\u001b[0m\u001b[0;34m.\u001b[0m\u001b[0mreset\u001b[0m\u001b[0;34m(\u001b[0m\u001b[0;34m)\u001b[0m\u001b[0;34m\u001b[0m\u001b[0m\n\u001b[1;32m    227\u001b[0m             \u001b[0;32mtry\u001b[0m\u001b[0;34m:\u001b[0m\u001b[0;34m\u001b[0m\u001b[0m\n\u001b[0;32m--> 228\u001b[0;31m                 \u001b[0mself\u001b[0m\u001b[0;34m.\u001b[0m\u001b[0m_feed\u001b[0m\u001b[0;34m(\u001b[0m\u001b[0;34m)\u001b[0m\u001b[0;34m\u001b[0m\u001b[0m\n\u001b[0m\u001b[1;32m    229\u001b[0m                 \u001b[0;32mbreak\u001b[0m\u001b[0;34m\u001b[0m\u001b[0m\n\u001b[1;32m    230\u001b[0m             \u001b[0;32mexcept\u001b[0m \u001b[0mParserRejectedMarkup\u001b[0m\u001b[0;34m:\u001b[0m\u001b[0;34m\u001b[0m\u001b[0m\n",
      "\u001b[0;32m~/anaconda3/lib/python3.6/site-packages/bs4/__init__.py\u001b[0m in \u001b[0;36m_feed\u001b[0;34m(self)\u001b[0m\n\u001b[1;32m    287\u001b[0m         \u001b[0mself\u001b[0m\u001b[0;34m.\u001b[0m\u001b[0mbuilder\u001b[0m\u001b[0;34m.\u001b[0m\u001b[0mreset\u001b[0m\u001b[0;34m(\u001b[0m\u001b[0;34m)\u001b[0m\u001b[0;34m\u001b[0m\u001b[0m\n\u001b[1;32m    288\u001b[0m \u001b[0;34m\u001b[0m\u001b[0m\n\u001b[0;32m--> 289\u001b[0;31m         \u001b[0mself\u001b[0m\u001b[0;34m.\u001b[0m\u001b[0mbuilder\u001b[0m\u001b[0;34m.\u001b[0m\u001b[0mfeed\u001b[0m\u001b[0;34m(\u001b[0m\u001b[0mself\u001b[0m\u001b[0;34m.\u001b[0m\u001b[0mmarkup\u001b[0m\u001b[0;34m)\u001b[0m\u001b[0;34m\u001b[0m\u001b[0m\n\u001b[0m\u001b[1;32m    290\u001b[0m         \u001b[0;31m# Close out any unfinished strings and close all the open tags.\u001b[0m\u001b[0;34m\u001b[0m\u001b[0;34m\u001b[0m\u001b[0m\n\u001b[1;32m    291\u001b[0m         \u001b[0mself\u001b[0m\u001b[0;34m.\u001b[0m\u001b[0mendData\u001b[0m\u001b[0;34m(\u001b[0m\u001b[0;34m)\u001b[0m\u001b[0;34m\u001b[0m\u001b[0m\n",
      "\u001b[0;32m~/anaconda3/lib/python3.6/site-packages/bs4/builder/_htmlparser.py\u001b[0m in \u001b[0;36mfeed\u001b[0;34m(self, markup)\u001b[0m\n\u001b[1;32m    213\u001b[0m         \u001b[0mparser\u001b[0m\u001b[0;34m.\u001b[0m\u001b[0msoup\u001b[0m \u001b[0;34m=\u001b[0m \u001b[0mself\u001b[0m\u001b[0;34m.\u001b[0m\u001b[0msoup\u001b[0m\u001b[0;34m\u001b[0m\u001b[0m\n\u001b[1;32m    214\u001b[0m         \u001b[0;32mtry\u001b[0m\u001b[0;34m:\u001b[0m\u001b[0;34m\u001b[0m\u001b[0m\n\u001b[0;32m--> 215\u001b[0;31m             \u001b[0mparser\u001b[0m\u001b[0;34m.\u001b[0m\u001b[0mfeed\u001b[0m\u001b[0;34m(\u001b[0m\u001b[0mmarkup\u001b[0m\u001b[0;34m)\u001b[0m\u001b[0;34m\u001b[0m\u001b[0m\n\u001b[0m\u001b[1;32m    216\u001b[0m         \u001b[0;32mexcept\u001b[0m \u001b[0mHTMLParseError\u001b[0m \u001b[0;32mas\u001b[0m \u001b[0me\u001b[0m\u001b[0;34m:\u001b[0m\u001b[0;34m\u001b[0m\u001b[0m\n\u001b[1;32m    217\u001b[0m             warnings.warn(RuntimeWarning(\n",
      "\u001b[0;32m~/anaconda3/lib/python3.6/html/parser.py\u001b[0m in \u001b[0;36mfeed\u001b[0;34m(self, data)\u001b[0m\n\u001b[1;32m    109\u001b[0m         \"\"\"\n\u001b[1;32m    110\u001b[0m         \u001b[0mself\u001b[0m\u001b[0;34m.\u001b[0m\u001b[0mrawdata\u001b[0m \u001b[0;34m=\u001b[0m \u001b[0mself\u001b[0m\u001b[0;34m.\u001b[0m\u001b[0mrawdata\u001b[0m \u001b[0;34m+\u001b[0m \u001b[0mdata\u001b[0m\u001b[0;34m\u001b[0m\u001b[0m\n\u001b[0;32m--> 111\u001b[0;31m         \u001b[0mself\u001b[0m\u001b[0;34m.\u001b[0m\u001b[0mgoahead\u001b[0m\u001b[0;34m(\u001b[0m\u001b[0;36m0\u001b[0m\u001b[0;34m)\u001b[0m\u001b[0;34m\u001b[0m\u001b[0m\n\u001b[0m\u001b[1;32m    112\u001b[0m \u001b[0;34m\u001b[0m\u001b[0m\n\u001b[1;32m    113\u001b[0m     \u001b[0;32mdef\u001b[0m \u001b[0mclose\u001b[0m\u001b[0;34m(\u001b[0m\u001b[0mself\u001b[0m\u001b[0;34m)\u001b[0m\u001b[0;34m:\u001b[0m\u001b[0;34m\u001b[0m\u001b[0m\n",
      "\u001b[0;32m~/anaconda3/lib/python3.6/html/parser.py\u001b[0m in \u001b[0;36mgoahead\u001b[0;34m(self, end)\u001b[0m\n\u001b[1;32m    171\u001b[0m                     \u001b[0mk\u001b[0m \u001b[0;34m=\u001b[0m \u001b[0mself\u001b[0m\u001b[0;34m.\u001b[0m\u001b[0mparse_starttag\u001b[0m\u001b[0;34m(\u001b[0m\u001b[0mi\u001b[0m\u001b[0;34m)\u001b[0m\u001b[0;34m\u001b[0m\u001b[0m\n\u001b[1;32m    172\u001b[0m                 \u001b[0;32melif\u001b[0m \u001b[0mstartswith\u001b[0m\u001b[0;34m(\u001b[0m\u001b[0;34m\"</\"\u001b[0m\u001b[0;34m,\u001b[0m \u001b[0mi\u001b[0m\u001b[0;34m)\u001b[0m\u001b[0;34m:\u001b[0m\u001b[0;34m\u001b[0m\u001b[0m\n\u001b[0;32m--> 173\u001b[0;31m                     \u001b[0mk\u001b[0m \u001b[0;34m=\u001b[0m \u001b[0mself\u001b[0m\u001b[0;34m.\u001b[0m\u001b[0mparse_endtag\u001b[0m\u001b[0;34m(\u001b[0m\u001b[0mi\u001b[0m\u001b[0;34m)\u001b[0m\u001b[0;34m\u001b[0m\u001b[0m\n\u001b[0m\u001b[1;32m    174\u001b[0m                 \u001b[0;32melif\u001b[0m \u001b[0mstartswith\u001b[0m\u001b[0;34m(\u001b[0m\u001b[0;34m\"<!--\"\u001b[0m\u001b[0;34m,\u001b[0m \u001b[0mi\u001b[0m\u001b[0;34m)\u001b[0m\u001b[0;34m:\u001b[0m\u001b[0;34m\u001b[0m\u001b[0m\n\u001b[1;32m    175\u001b[0m                     \u001b[0mk\u001b[0m \u001b[0;34m=\u001b[0m \u001b[0mself\u001b[0m\u001b[0;34m.\u001b[0m\u001b[0mparse_comment\u001b[0m\u001b[0;34m(\u001b[0m\u001b[0mi\u001b[0m\u001b[0;34m)\u001b[0m\u001b[0;34m\u001b[0m\u001b[0m\n",
      "\u001b[0;32m~/anaconda3/lib/python3.6/html/parser.py\u001b[0m in \u001b[0;36mparse_endtag\u001b[0;34m(self, i)\u001b[0m\n\u001b[1;32m    386\u001b[0m     \u001b[0;32mdef\u001b[0m \u001b[0mparse_endtag\u001b[0m\u001b[0;34m(\u001b[0m\u001b[0mself\u001b[0m\u001b[0;34m,\u001b[0m \u001b[0mi\u001b[0m\u001b[0;34m)\u001b[0m\u001b[0;34m:\u001b[0m\u001b[0;34m\u001b[0m\u001b[0m\n\u001b[1;32m    387\u001b[0m         \u001b[0mrawdata\u001b[0m \u001b[0;34m=\u001b[0m \u001b[0mself\u001b[0m\u001b[0;34m.\u001b[0m\u001b[0mrawdata\u001b[0m\u001b[0;34m\u001b[0m\u001b[0m\n\u001b[0;32m--> 388\u001b[0;31m         \u001b[0;32massert\u001b[0m \u001b[0mrawdata\u001b[0m\u001b[0;34m[\u001b[0m\u001b[0mi\u001b[0m\u001b[0;34m:\u001b[0m\u001b[0mi\u001b[0m\u001b[0;34m+\u001b[0m\u001b[0;36m2\u001b[0m\u001b[0;34m]\u001b[0m \u001b[0;34m==\u001b[0m \u001b[0;34m\"</\"\u001b[0m\u001b[0;34m,\u001b[0m \u001b[0;34m\"unexpected call to parse_endtag\"\u001b[0m\u001b[0;34m\u001b[0m\u001b[0m\n\u001b[0m\u001b[1;32m    389\u001b[0m         \u001b[0mmatch\u001b[0m \u001b[0;34m=\u001b[0m \u001b[0mendendtag\u001b[0m\u001b[0;34m.\u001b[0m\u001b[0msearch\u001b[0m\u001b[0;34m(\u001b[0m\u001b[0mrawdata\u001b[0m\u001b[0;34m,\u001b[0m \u001b[0mi\u001b[0m\u001b[0;34m+\u001b[0m\u001b[0;36m1\u001b[0m\u001b[0;34m)\u001b[0m \u001b[0;31m# >\u001b[0m\u001b[0;34m\u001b[0m\u001b[0m\n\u001b[1;32m    390\u001b[0m         \u001b[0;32mif\u001b[0m \u001b[0;32mnot\u001b[0m \u001b[0mmatch\u001b[0m\u001b[0;34m:\u001b[0m\u001b[0;34m\u001b[0m\u001b[0m\n",
      "\u001b[0;31mKeyboardInterrupt\u001b[0m: "
     ]
    }
   ],
   "source": [
    "data = get_content()"
   ]
  },
  {
   "cell_type": "code",
   "execution_count": null,
   "metadata": {},
   "outputs": [],
   "source": []
  },
  {
   "cell_type": "code",
   "execution_count": 10,
   "metadata": {},
   "outputs": [
    {
     "data": {
      "text/plain": [
       "(4857,)"
      ]
     },
     "execution_count": 10,
     "metadata": {},
     "output_type": "execute_result"
    }
   ],
   "source": [
    "data = np.array(data)\n",
    "data.shape"
   ]
  },
  {
   "cell_type": "code",
   "execution_count": 18,
   "metadata": {},
   "outputs": [],
   "source": [
    "from nltk.stem.porter import PorterStemmer\n",
    "from nltk.stem.snowball import SnowballStemmer\n",
    "from nltk.stem.wordnet import WordNetLemmatizer"
   ]
  },
  {
   "cell_type": "code",
   "execution_count": 21,
   "metadata": {},
   "outputs": [],
   "source": [
    "Porter = PorterStemmer"
   ]
  },
  {
   "cell_type": "code",
   "execution_count": 23,
   "metadata": {},
   "outputs": [],
   "source": [
    "bow_transformer = CountVectorizer(stop_words='english').fit(data)\n",
    "bow_transform = bow_transformer.transform(data)\n",
    "tfidf_transformer = TfidfTransformer().fit(bow_transform)\n",
    "tfidf_transform = tfidf_transformer.transform(bow_transform)"
   ]
  },
  {
   "cell_type": "code",
   "execution_count": 48,
   "metadata": {},
   "outputs": [
    {
     "ename": "KeyError",
     "evalue": "'newjersey'",
     "output_type": "error",
     "traceback": [
      "\u001b[0;31m---------------------------------------------------------------------------\u001b[0m",
      "\u001b[0;31mKeyError\u001b[0m                                  Traceback (most recent call last)",
      "\u001b[0;32m<ipython-input-48-34ba93d87ba0>\u001b[0m in \u001b[0;36m<module>\u001b[0;34m()\u001b[0m\n\u001b[1;32m      1\u001b[0m \u001b[0mcols\u001b[0m \u001b[0;34m=\u001b[0m \u001b[0mbow_transformer\u001b[0m\u001b[0;34m.\u001b[0m\u001b[0mvocabulary_\u001b[0m\u001b[0;34m\u001b[0m\u001b[0m\n\u001b[0;32m----> 2\u001b[0;31m \u001b[0mcols\u001b[0m\u001b[0;34m[\u001b[0m\u001b[0;34m'newjersey'\u001b[0m\u001b[0;34m]\u001b[0m\u001b[0;34m\u001b[0m\u001b[0m\n\u001b[0m",
      "\u001b[0;31mKeyError\u001b[0m: 'newjersey'"
     ]
    }
   ],
   "source": [
    "cols = bow_transformer.vocabulary_\n",
    "cols['newjersey']"
   ]
  },
  {
   "cell_type": "code",
   "execution_count": 34,
   "metadata": {},
   "outputs": [
    {
     "data": {
      "text/plain": [
       "(4857, 50306)"
      ]
     },
     "execution_count": 34,
     "metadata": {},
     "output_type": "execute_result"
    }
   ],
   "source": [
    "term_freq = bow_transform.todense()\n",
    "term_freq.shape"
   ]
  },
  {
   "cell_type": "code",
   "execution_count": 36,
   "metadata": {},
   "outputs": [
    {
     "data": {
      "text/plain": [
       "545"
      ]
     },
     "execution_count": 36,
     "metadata": {},
     "output_type": "execute_result"
    }
   ],
   "source": [
    "term_freq[:,15027].sum()"
   ]
  },
  {
   "cell_type": "code",
   "execution_count": 54,
   "metadata": {},
   "outputs": [],
   "source": [
    "states = ['colorado','oregon','california','washington','montana','michigan','wisconsin','iowa','missouri',\n",
    "         'georgia','kentucky','ohio','vermont', 'connecticut','massachusetts']"
   ]
  },
  {
   "cell_type": "code",
   "execution_count": 55,
   "metadata": {},
   "outputs": [
    {
     "data": {
      "text/plain": [
       "15"
      ]
     },
     "execution_count": 55,
     "metadata": {},
     "output_type": "execute_result"
    }
   ],
   "source": [
    "len(states)"
   ]
  },
  {
   "cell_type": "code",
   "execution_count": 57,
   "metadata": {},
   "outputs": [],
   "source": [
    "state_freq = []\n",
    "for state in states:\n",
    "    idx = cols[state]\n",
    "    val = term_freq[:,idx].sum()\n",
    "    state_freq.append(val)"
   ]
  },
  {
   "cell_type": "code",
   "execution_count": 82,
   "metadata": {},
   "outputs": [],
   "source": [
    "s2 = np.array(state_freq)"
   ]
  },
  {
   "cell_type": "code",
   "execution_count": 59,
   "metadata": {},
   "outputs": [],
   "source": [
    "import matplotlib.pyplot as plt"
   ]
  },
  {
   "cell_type": "code",
   "execution_count": 62,
   "metadata": {},
   "outputs": [
    {
     "data": {
      "text/plain": [
       "array([13, 12, 14,  4, 10,  0,  6,  8,  9,  7,  1,  2, 11,  5,  3])"
      ]
     },
     "execution_count": 62,
     "metadata": {},
     "output_type": "execute_result"
    }
   ],
   "source": [
    "idx = np.argsort(state_freq)\n",
    "idx"
   ]
  },
  {
   "cell_type": "code",
   "execution_count": 83,
   "metadata": {},
   "outputs": [],
   "source": [
    "s = np.array(states)\n",
    "reversed_arr = idx[::-1]\n",
    "newstates = s[reversed_arr]\n",
    "newfreq = s2[reversed_arr]"
   ]
  },
  {
   "cell_type": "code",
   "execution_count": 86,
   "metadata": {},
   "outputs": [
    {
     "data": {
      "text/plain": [
       "Text(0.5,1,'Bigfoot Sightings by State')"
      ]
     },
     "execution_count": 86,
     "metadata": {},
     "output_type": "execute_result"
    },
    {
     "data": {
      "image/png": "[encoded data removed]",
      "text/plain": [
       "<Figure size 864x432 with 1 Axes>"
      ]
     },
     "metadata": {},
     "output_type": "display_data"
    }
   ],
   "source": [
    "fig = plt.figure(figsize = (12,6))\n",
    "ax = fig.add_subplot(111)\n",
    "\n",
    "plt.xticks(rotation='vertical')\n",
    "ax.bar(newstates, newfreq)\n",
    "ax.set_title('Bigfoot Sightings by State')"
   ]
  },
  {
   "cell_type": "code",
   "execution_count": null,
   "metadata": {},
   "outputs": [],
   "source": []
  }
 ],
 "metadata": {
  "kernelspec": {
   "display_name": "Python 3",
   "language": "python",
   "name": "python3"
  },
  "language_info": {
   "codemirror_mode": {
    "name": "ipython",
    "version": 3
   },
   "file_extension": ".py",
   "mimetype": "text/x-python",
   "name": "python",
   "nbconvert_exporter": "python",
   "pygments_lexer": "ipython3",
   "version": "3.6.6"
  }
 },
 "nbformat": 4,
 "nbformat_minor": 2
}
